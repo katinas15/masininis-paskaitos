{
 "cells": [
  {
   "cell_type": "code",
   "execution_count": 9,
   "metadata": {},
   "outputs": [],
   "source": [
    "import tensorflow as tf\n",
    "import numpy as np\n",
    "import matplotlib.pyplot as plt\n",
    "from tensorflow import keras\n",
    "from tensorflow.keras.layers import Dense, Flatten, BatchNormalization, Dropout"
   ]
  },
  {
   "cell_type": "code",
   "execution_count": 1,
   "metadata": {},
   "outputs": [],
   "source": [
    "mnist=tf.keras.datasets.mnist\n",
    "(x_train, y_train), (x_test, y_test) = mnist.load_data()"
   ]
  },
  {
   "cell_type": "code",
   "execution_count": 2,
   "metadata": {},
   "outputs": [],
   "source": [
    "x_train=x_train/255\n",
    "x_test=x_test/255\n",
    "\n",
    "y_train=keras.utils.to_categorical(y_train,10)\n",
    "y_test=keras.utils.to_categorical(y_test,10)\n",
    "\n"
   ]
  },
  {
   "cell_type": "code",
   "execution_count": 3,
   "metadata": {},
   "outputs": [
    {
     "name": "stdout",
     "output_type": "stream",
     "text": [
      "Model: \"sequential\"\n",
      "_________________________________________________________________\n",
      " Layer (type)                Output Shape              Param #   \n",
      "=================================================================\n",
      " flatten (Flatten)           (None, 784)               0         \n",
      "                                                                 \n",
      " dense (Dense)               (None, 100)               78500     \n",
      "                                                                 \n",
      " dense_1 (Dense)             (None, 10)                1010      \n",
      "                                                                 \n",
      "=================================================================\n",
      "Total params: 79,510\n",
      "Trainable params: 79,510\n",
      "Non-trainable params: 0\n",
      "_________________________________________________________________\n",
      "None\n"
     ]
    }
   ],
   "source": [
    "model=keras.Sequential([\n",
    "    Flatten(input_shape=(28,28,1)),\n",
    "    Dense(100, activation='sigmoid'),\n",
    "\n",
    "    Dense(10, activation='softmax')\n",
    "])\n",
    "print(model.summary())"
   ]
  },
  {
   "cell_type": "code",
   "execution_count": 4,
   "metadata": {},
   "outputs": [],
   "source": [
    "model.compile(optimizer='sgd',\n",
    "loss='categorical_crossentropy',\n",
    "metrics=['accuracy'] )"
   ]
  },
  {
   "cell_type": "code",
   "execution_count": 5,
   "metadata": {},
   "outputs": [
    {
     "name": "stdout",
     "output_type": "stream",
     "text": [
      "Epoch 1/6\n",
      "1500/1500 [==============================] - 7s 3ms/step - loss: 1.5632 - accuracy: 0.6758 - val_loss: 1.0051 - val_accuracy: 0.8167\n",
      "Epoch 2/6\n",
      "1500/1500 [==============================] - 3s 2ms/step - loss: 0.8201 - accuracy: 0.8350 - val_loss: 0.6395 - val_accuracy: 0.8667\n",
      "Epoch 3/6\n",
      "1500/1500 [==============================] - 3s 2ms/step - loss: 0.6002 - accuracy: 0.8625 - val_loss: 0.5095 - val_accuracy: 0.8819\n",
      "Epoch 4/6\n",
      "1500/1500 [==============================] - 3s 2ms/step - loss: 0.5051 - accuracy: 0.8760 - val_loss: 0.4434 - val_accuracy: 0.8903\n",
      "Epoch 5/6\n",
      "1500/1500 [==============================] - 3s 2ms/step - loss: 0.4517 - accuracy: 0.8842 - val_loss: 0.4046 - val_accuracy: 0.8979\n",
      "Epoch 6/6\n",
      "1500/1500 [==============================] - 3s 2ms/step - loss: 0.4174 - accuracy: 0.8896 - val_loss: 0.3782 - val_accuracy: 0.9003\n"
     ]
    }
   ],
   "source": [
    "mokymo=model.fit(x_train, y_train,\n",
    "batch_size=32, epochs=6, validation_split=0.2)"
   ]
  },
  {
   "cell_type": "code",
   "execution_count": 6,
   "metadata": {},
   "outputs": [
    {
     "name": "stdout",
     "output_type": "stream",
     "text": [
      "313/313 [==============================] - 1s 2ms/step - loss: 0.3820 - accuracy: 0.9005\n"
     ]
    }
   ],
   "source": [
    "testo=model.evaluate(x_test,y_test)"
   ]
  },
  {
   "cell_type": "code",
   "execution_count": 13,
   "metadata": {},
   "outputs": [
    {
     "data": {
      "image/png": "[encoded data removed]",
      "text/plain": [
       "<Figure size 432x288 with 1 Axes>"
      ]
     },
     "metadata": {
      "needs_background": "light"
     },
     "output_type": "display_data"
    },
    {
     "data": {
      "image/png": "[encoded data removed]",
      "text/plain": [
       "<Figure size 432x288 with 1 Axes>"
      ]
     },
     "metadata": {
      "needs_background": "light"
     },
     "output_type": "display_data"
    }
   ],
   "source": [
    "plt.title('accuracy')\n",
    "plt.plot(mokymo.history['accuracy'])\n",
    "plt.plot(mokymo.history['val_accuracy'])\n",
    "plt.legend(['mokymo', 'validavimo'])\n",
    "plt.show()\n",
    "plt.plot(mokymo.history['loss'])\n",
    "\n",
    "plt.title('loss')\n",
    "plt.xlabel('epoch')\n",
    "plt.ylabel('loss')\n",
    "plt.legend(['mokymo'], loc='upper left')\n",
    "plt.show()"
   ]
  },
  {
   "cell_type": "markdown",
   "metadata": {},
   "source": [
    "--------------------"
   ]
  },
  {
   "cell_type": "markdown",
   "metadata": {},
   "source": [
    "--------------------"
   ]
  },
  {
   "cell_type": "markdown",
   "metadata": {},
   "source": [
    "--------------------"
   ]
  },
  {
   "cell_type": "markdown",
   "metadata": {},
   "source": [
    "--------------------"
   ]
  },
  {
   "cell_type": "code",
   "execution_count": null,
   "metadata": {},
   "outputs": [],
   "source": []
  },
  {
   "cell_type": "code",
   "execution_count": 12,
   "metadata": {},
   "outputs": [
    {
     "name": "stdout",
     "output_type": "stream",
     "text": [
      "Epoch 1/5\n",
      "5250/5250 [==============================] - 24s 4ms/step - loss: 0.9636 - accuracy: 0.6966 - val_loss: 0.3628 - val_accuracy: 0.8916\n",
      "Epoch 2/5\n",
      "5250/5250 [==============================] - 24s 5ms/step - loss: 0.6752 - accuracy: 0.7918 - val_loss: 0.2943 - val_accuracy: 0.9128\n",
      "Epoch 3/5\n",
      "5250/5250 [==============================] - 22s 4ms/step - loss: 0.6005 - accuracy: 0.8199 - val_loss: 0.2832 - val_accuracy: 0.9163\n",
      "Epoch 4/5\n",
      "5250/5250 [==============================] - 23s 4ms/step - loss: 0.5681 - accuracy: 0.8281 - val_loss: 0.2629 - val_accuracy: 0.9209\n",
      "Epoch 5/5\n",
      "5250/5250 [==============================] - 24s 5ms/step - loss: 0.5257 - accuracy: 0.8425 - val_loss: 0.2367 - val_accuracy: 0.9281\n",
      "313/313 [==============================] - 1s 3ms/step - loss: 0.2273 - accuracy: 0.9326\n"
     ]
    },
    {
     "data": {
      "image/png": "[encoded data removed]",
      "text/plain": [
       "<Figure size 432x288 with 1 Axes>"
      ]
     },
     "metadata": {
      "needs_background": "light"
     },
     "output_type": "display_data"
    },
    {
     "data": {
      "image/png": "[encoded data removed]",
      "text/plain": [
       "<Figure size 432x288 with 1 Axes>"
      ]
     },
     "metadata": {
      "needs_background": "light"
     },
     "output_type": "display_data"
    }
   ],
   "source": [
    "model=keras.Sequential([\n",
    "    Flatten(input_shape=(28,28,1)),\n",
    "    Dense(32, activation='relu'),\n",
    "    BatchNormalization(),\n",
    "    Dense(32, activation='relu'),\n",
    "    Dropout(0.3),\n",
    "\n",
    "    BatchNormalization(),\n",
    "    Dense(16, activation='relu'),\n",
    "\n",
    "    Dense(10, activation='softmax'),\n",
    "])\n",
    "\n",
    "model.compile(optimizer='sgd',\n",
    "loss='categorical_crossentropy',\n",
    "metrics=['accuracy'] )\n",
    "\n",
    "mokymo=model.fit(x_train, y_train,\n",
    "batch_size=8, epochs=5, validation_split=0.3)\n",
    "\n",
    "testo=model.evaluate(x_test,y_test)\n",
    "\n",
    "plt.plot(mokymo.history['accuracy'])\n",
    "plt.plot(mokymo.history['val_accuracy'])\n",
    "plt.legend(['mokymo', 'validavimo'])\n",
    "plt.show()\n",
    "plt.plot(mokymo.history['loss'])\n",
    "\n",
    "plt.title('Modelio loss funkcija')\n",
    "plt.xlabel('epoch')\n",
    "plt.ylabel('loss')\n",
    "plt.legend(['mokymo'], loc='upper left')\n",
    "plt.show()"
   ]
  }
 ],
 "metadata": {
  "kernelspec": {
   "display_name": "Python 3.9.7 ('tf')",
   "language": "python",
   "name": "python3"
  },
  "language_info": {
   "codemirror_mode": {
    "name": "ipython",
    "version": 3
   },
   "file_extension": ".py",
   "mimetype": "text/x-python",
   "name": "python",
   "nbconvert_exporter": "python",
   "pygments_lexer": "ipython3",
   "version": "3.9.7"
  },
  "orig_nbformat": 4,
  "vscode": {
   "interpreter": {
    "hash": "d0eed9422d3b6c012327c82824da2c3cc1115dadb006bfd9a899d8ed44f220fb"
   }
  }
 },
 "nbformat": 4,
 "nbformat_minor": 2
}
