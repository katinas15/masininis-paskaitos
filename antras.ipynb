{
  "cells": [
    {
      "cell_type": "code",
      "execution_count": 1,
      "metadata": {
        "id": "tkXXKJwU4A57"
      },
      "outputs": [],
      "source": [
        "import pandas as pd\n",
        "dataset = [\n",
        "    ['A', 'D', 5],\n",
        "    ['A', 'B', 7],\n",
        "    ['B', 'D', 9],\n",
        "    ['B', 'C', 8],\n",
        "    ['B', 'E', 7],\n",
        "    ['C', 'E', 5],\n",
        "    ['D', 'E', 15],\n",
        "    ['D', 'F', 6],\n",
        "    ['E', 'F', 8],\n",
        "    ['E', 'G', 9],\n",
        "    ['F', 'G', 11],\n",
        "]\n"
      ]
    },
    {
      "cell_type": "code",
      "execution_count": 2,
      "metadata": {
        "colab": {
          "base_uri": "https://localhost:8080/"
        },
        "id": "Zg3ShPC94A5-",
        "outputId": "2d50336d-8226-4e8e-b678-fea8a2600eb0"
      },
      "outputs": [
        {
          "output_type": "stream",
          "name": "stdout",
          "text": [
            "['A', 'B', 'C', 'D', 'E', 'F', 'G']\n",
            "  start end  distance\n",
            "0     D   A         5\n",
            "1     D   F         6\n",
            "2     A   B         7\n",
            "3     B   E         7\n",
            "4     E   C         5\n",
            "5     E   G         9\n"
          ]
        }
      ],
      "source": [
        "#pirmas\n",
        "df = pd.DataFrame(dataset, columns=['start', 'end', 'distance'])\n",
        "# print(df)\n",
        "\n",
        "startingPoint = 'D'\n",
        "chosenPoints = [startingPoint]\n",
        "connections = []\n",
        "while True:\n",
        "    # print('---')\n",
        "    foundNeighbours = df[(df[\"start\"].isin(chosenPoints) & ~df[\"end\"].isin(chosenPoints)) \\\n",
        "        | ~df[\"start\"].isin(chosenPoints) & df[\"end\"].isin(chosenPoints)] \n",
        "    if not len(foundNeighbours):\n",
        "        break\n",
        "    # print(foundNeighbours)\n",
        "    closestNeighbour = foundNeighbours.loc[foundNeighbours.distance.idxmin()]\n",
        "    \n",
        "    # print(closestNeighbour)\n",
        "    if not closestNeighbour.start in chosenPoints:\n",
        "        chosenPoints.append(closestNeighbour.start)\n",
        "        connections.append([closestNeighbour.end, closestNeighbour.start, closestNeighbour.distance])\n",
        "    elif not closestNeighbour.end in chosenPoints:\n",
        "        chosenPoints.append(closestNeighbour.end)\n",
        "        connections.append([closestNeighbour.start, closestNeighbour.end, closestNeighbour.distance])\n",
        "\n",
        "\n",
        "# print(chosenPoints)\n",
        "chosenPoints.sort()\n",
        "print(chosenPoints)\n",
        "connections = pd.DataFrame(connections, columns=['start', 'end', 'distance'])\n",
        "print(connections)\n",
        "    \n"
      ]
    },
    {
      "cell_type": "code",
      "execution_count": 3,
      "metadata": {
        "colab": {
          "base_uri": "https://localhost:8080/"
        },
        "id": "OEdo35Xx4A6A",
        "outputId": "52cde816-9f37-4960-d764-74b99188c5d0"
      },
      "outputs": [
        {
          "output_type": "stream",
          "name": "stdout",
          "text": [
            "[['D', 'A']]\n",
            "[['D', 'A', 'F']]\n",
            "[['D', 'A', 'F'], ['B', 'E']]\n",
            "[['D', 'A', 'F'], ['B', 'E', 'C']]\n",
            "[['D', 'A', 'F'], ['B', 'E', 'C'], ['G']]\n"
          ]
        }
      ],
      "source": [
        "#antras\n",
        "clusterPoints = chosenPoints\n",
        "clusterConnections = connections\n",
        "numberOfClusters = 3\n",
        "for i in range(numberOfClusters - 1):\n",
        "    clusterConnections = clusterConnections.drop(clusterConnections[\"distance\"].idxmax())\n",
        "\n",
        "clusterConnections.index = range(len(clusterConnections.index))\n",
        "# print(clusterConnections)\n",
        "\n",
        "foundClusters = []\n",
        "for index in range(len(clusterConnections)):\n",
        "    connection = clusterConnections.loc[index]\n",
        "    curr = (connection.start, connection.end)\n",
        "    \n",
        "    addedToCluster = False\n",
        "    for cluster in foundClusters:\n",
        "        if connection.start in cluster:\n",
        "            cluster.append(connection.end)\n",
        "            addedToCluster = True\n",
        "            break\n",
        "        elif connection.end in cluster:\n",
        "            cluster.append(connection.start)\n",
        "            addedToCluster = True\n",
        "            break\n",
        "\n",
        "    if not addedToCluster:\n",
        "        foundClusters.append([connection.start, connection.end])\n",
        "    print(foundClusters)\n",
        "\n",
        "for point in clusterPoints:\n",
        "    hasCluster = True\n",
        "    for cluster in foundClusters:\n",
        "        if not point in cluster:\n",
        "            hasCluster = False\n",
        "        if point in cluster:\n",
        "            hasCluster = True\n",
        "            break\n",
        "\n",
        "\n",
        "    if not hasCluster:\n",
        "        foundClusters.append([point])\n",
        "\n",
        "print(foundClusters)"
      ]
    },
    {
      "cell_type": "code",
      "execution_count": 4,
      "metadata": {
        "colab": {
          "base_uri": "https://localhost:8080/"
        },
        "id": "pZO_wttF4A6C",
        "outputId": "12b3e21a-4f8d-4e64-8f58-9e0ac23824ce"
      },
      "outputs": [
        {
          "output_type": "stream",
          "name": "stdout",
          "text": [
            "14\n",
            "0     2.449490\n",
            "1     2.645751\n",
            "2     1.414214\n",
            "3     2.449490\n",
            "4     2.000000\n",
            "5     2.236068\n",
            "6     1.732051\n",
            "7     2.000000\n",
            "8     0.000000\n",
            "9     2.000000\n",
            "10    2.645751\n",
            "11    2.449490\n",
            "12    2.236068\n",
            "13    2.236068\n",
            "14    0.000000\n",
            "Name: 14, dtype: float64\n",
            "[0.0, 0.0]\n"
          ]
        }
      ],
      "source": [
        "#trecias\n",
        "dataset = [\n",
        "    [\"Vardas1\", 1, 1, 1, 1, 1, 1, 1, 0, 0, 1],\n",
        "    [\"Vardas2\", 1, 1, 1, 1, 1, 1, 1, 0, 0, 0],\n",
        "    [\"Vardas3\", 1, 0, 1, 0, 0, 0, 1, 0, 0, 1],\n",
        "    [\"Vardas4\", 1, 1, 0, 0, 1, 0, 1, 0, 0, 0],\n",
        "    [\"Vardas5\", 0, 0, 1, 0, 0, 0, 0, 0, 1, 0],\n",
        "    [\"Vardas6\", 0, 1, 1, 1, 1, 0, 1, 0, 0, 0],\n",
        "    [\"Vardas7\", 0, 0, 1, 0, 0, 1, 1, 0, 0, 0],\n",
        "    [\"Vardas8\", 1, 1, 1, 0, 1, 0, 1, 0, 0, 1],\n",
        "    [\"Vardas9\", 0, 0, 1, 0, 0, 0, 1, 1, 0, 1],\n",
        "    [\"Vardas10\", 0, 0, 1, 0, 0, 0, 0, 0, 1, 0],\n",
        "    [\"Vardas11\", 1, 1, 1, 1, 1, 1, 1, 0, 1, 1],\n",
        "    [\"Vardas12\", 1, 1, 1, 1, 1, 1, 1, 1, 0, 0],\n",
        "    [\"Vardas13\", 1, 0, 1, 1, 1, 1, 1, 0, 0, 1],\n",
        "    [\"Vardas14\", 1, 1, 1, 1, 1, 0, 1, 0, 0, 1],\n",
        "    [\"Vardas15\", 0, 0, 1, 0, 0, 0, 1, 1, 0, 1],\n",
        "]\n",
        "\n",
        "df = pd.DataFrame(dataset, columns=['pacientas', 'p1', 'p2', 'p3', 'p4', 'p5', 'p6', 'p7', 'p8', 'p9', 'p10'])\n",
        "points = df.drop(\"pacientas\", axis=1)\n",
        "# print(df)\n",
        "\n",
        "from scipy.spatial.distance import cdist\n",
        "\n",
        "radius = 0.5\n",
        "paklaida = 0.01\n",
        "\n",
        "# def get_neighbours\n",
        "\n",
        "centroids = []\n",
        "while len(points):\n",
        "    current_point_index = points.sample(n = 1).index.values[0]\n",
        "    print(current_point_index)\n",
        "\n",
        "    distances = pd.DataFrame(cdist(points, points, 'euclid'))[current_point_index]\n",
        "    print(distances)\n",
        "\n",
        "    neighbours = [distance for distance in distances if distance < radius]\n",
        "    print(neighbours)\n",
        "\n",
        "\n",
        "    # print(current_point)\n",
        "    # print(current_point.values[0][1:])\n",
        "    # print(points.values)\n",
        "    # foundNeighbours = points[points.]\n",
        "    # neighbors = get_neighbors(current_point, radius, points)\n",
        "    # centroid = get_centroid(neighbors)\n",
        "    # while np.linalg.norm(current_point - centroid) > tol:\n",
        "    #     current_point = centroid\n",
        "    #     neighbors = get_neighbors(current_point, radius, points)\n",
        "    #     centroid = get_centroid(neighbors)\n",
        "    # points = remove_points(neighbors, points)\n",
        "    # centroids.append(current_point)\n",
        "\n",
        "\n",
        "    break;\n",
        "\n",
        "\n",
        "\n",
        "numberOfCLusters = 3"
      ]
    }
  ],
  "metadata": {
    "kernelspec": {
      "display_name": "Python 3.9.7 ('tf')",
      "language": "python",
      "name": "python3"
    },
    "language_info": {
      "codemirror_mode": {
        "name": "ipython",
        "version": 3
      },
      "file_extension": ".py",
      "mimetype": "text/x-python",
      "name": "python",
      "nbconvert_exporter": "python",
      "pygments_lexer": "ipython3",
      "version": "3.9.7"
    },
    "orig_nbformat": 4,
    "vscode": {
      "interpreter": {
        "hash": "d0eed9422d3b6c012327c82824da2c3cc1115dadb006bfd9a899d8ed44f220fb"
      }
    },
    "colab": {
      "provenance": []
    }
  },
  "nbformat": 4,
  "nbformat_minor": 0
}