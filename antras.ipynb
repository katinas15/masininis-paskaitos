{
 "cells": [
  {
   "cell_type": "code",
   "execution_count": 1,
   "metadata": {},
   "outputs": [
    {
     "ename": "NameError",
     "evalue": "name 'pd' is not defined",
     "output_type": "error",
     "traceback": [
      "\u001b[1;31m---------------------------------------------------------------------------\u001b[0m",
      "\u001b[1;31mNameError\u001b[0m                                 Traceback (most recent call last)",
      "\u001b[1;32m~\\AppData\\Local\\Temp/ipykernel_12100/3255019592.py\u001b[0m in \u001b[0;36m<module>\u001b[1;34m\u001b[0m\n\u001b[0;32m      1\u001b[0m \u001b[1;31m#pirmas\u001b[0m\u001b[1;33m\u001b[0m\u001b[1;33m\u001b[0m\u001b[0m\n\u001b[1;32m----> 2\u001b[1;33m \u001b[0mdf\u001b[0m \u001b[1;33m=\u001b[0m \u001b[0mpd\u001b[0m\u001b[1;33m.\u001b[0m\u001b[0mDataFrame\u001b[0m\u001b[1;33m(\u001b[0m\u001b[0mdataset\u001b[0m\u001b[1;33m,\u001b[0m \u001b[0mcolumns\u001b[0m\u001b[1;33m=\u001b[0m\u001b[1;33m[\u001b[0m\u001b[1;34m'start'\u001b[0m\u001b[1;33m,\u001b[0m \u001b[1;34m'end'\u001b[0m\u001b[1;33m,\u001b[0m \u001b[1;34m'distance'\u001b[0m\u001b[1;33m]\u001b[0m\u001b[1;33m)\u001b[0m\u001b[1;33m\u001b[0m\u001b[1;33m\u001b[0m\u001b[0m\n\u001b[0m\u001b[0;32m      3\u001b[0m \u001b[1;31m# print(df)\u001b[0m\u001b[1;33m\u001b[0m\u001b[1;33m\u001b[0m\u001b[0m\n\u001b[0;32m      4\u001b[0m \u001b[0mchosenPoints\u001b[0m \u001b[1;33m=\u001b[0m \u001b[1;33m[\u001b[0m\u001b[1;34m'D'\u001b[0m\u001b[1;33m]\u001b[0m\u001b[1;33m\u001b[0m\u001b[1;33m\u001b[0m\u001b[0m\n\u001b[0;32m      5\u001b[0m \u001b[0mconnections\u001b[0m \u001b[1;33m=\u001b[0m \u001b[1;33m[\u001b[0m\u001b[1;33m]\u001b[0m\u001b[1;33m\u001b[0m\u001b[1;33m\u001b[0m\u001b[0m\n",
      "\u001b[1;31mNameError\u001b[0m: name 'pd' is not defined"
     ]
    }
   ],
   "source": [
    "#pirmas\n",
    "df = pd.DataFrame(dataset, columns=['start', 'end', 'distance'])\n",
    "# print(df)\n",
    "chosenPoints = ['D']\n",
    "connections = []\n",
    "while True:\n",
    "    # print('---')\n",
    "    foundNeighbours = df[(df[\"start\"].isin(chosenPoints) & ~df[\"end\"].isin(chosenPoints)) \\\n",
    "        | ~df[\"start\"].isin(chosenPoints) & df[\"end\"].isin(chosenPoints)] \n",
    "    if not len(foundNeighbours):\n",
    "        break\n",
    "    # print(foundNeighbours)\n",
    "    closestNeighbour = foundNeighbours.loc[foundNeighbours.distance.idxmin()]\n",
    "    \n",
    "    # print(closestNeighbour)\n",
    "    if not closestNeighbour.start in chosenPoints:\n",
    "        chosenPoints.append(closestNeighbour.start)\n",
    "        connections.append([closestNeighbour.end, closestNeighbour.start, closestNeighbour.distance])\n",
    "    elif not closestNeighbour.end in chosenPoints:\n",
    "        chosenPoints.append(closestNeighbour.end)\n",
    "        connections.append([closestNeighbour.start, closestNeighbour.end, closestNeighbour.distance])\n",
    "\n",
    "\n",
    "# print(chosenPoints)\n",
    "chosenPoints.sort()\n",
    "print(chosenPoints)\n",
    "connections = pd.DataFrame(connections, columns=['start', 'end', 'distance'])\n",
    "print(connections)\n",
    "    \n"
   ]
  },
  {
   "cell_type": "code",
   "execution_count": 170,
   "metadata": {},
   "outputs": [
    {
     "name": "stdout",
     "output_type": "stream",
     "text": [
      "[['D', 'A']]\n",
      "[['D', 'A', 'F']]\n",
      "[['D', 'A', 'F'], ['B', 'E']]\n",
      "[['D', 'A', 'F'], ['B', 'E', 'C']]\n",
      "[['D', 'A', 'F'], ['B', 'E', 'C'], ['G']]\n"
     ]
    }
   ],
   "source": [
    "#antras\n",
    "clusterPoints = chosenPoints\n",
    "clusterConnections = connections\n",
    "numberOfClusters = 3\n",
    "for i in range(numberOfClusters - 1):\n",
    "    clusterConnections = clusterConnections.drop(clusterConnections[\"distance\"].idxmax())\n",
    "\n",
    "clusterConnections.index = range(len(clusterConnections.index))\n",
    "\n",
    "foundClusters = []\n",
    "for index, colName in enumerate(clusterConnections):\n",
    "    connection = clusterConnections.loc[index]\n",
    "    \n",
    "    addedToCluster = False\n",
    "    for cluster in foundClusters:\n",
    "        if connection.start in cluster:\n",
    "            cluster.append(connection.end)\n",
    "            addedToCluster = True\n",
    "            break\n",
    "        elif connection.end in cluster:\n",
    "            cluster.append(connection.start)\n",
    "            addedToCluster = True\n",
    "            break\n",
    "\n",
    "    if not addedToCluster:\n",
    "        foundClusters.append([connection.start, connection.end])\n",
    "    print(foundClusters)\n",
    "\n",
    "for point in clusterPoints:\n",
    "    hasCluster = True\n",
    "    for cluster in foundClusters:\n",
    "        if not point in cluster:\n",
    "            hasCluster = False\n",
    "        if point in cluster:\n",
    "            hasCluster = True\n",
    "            break\n",
    "\n",
    "\n",
    "    if not hasCluster:\n",
    "        foundClusters.append([point])\n",
    "\n",
    "print(foundClusters)\n",
    "\n",
    "# print(clusterConnections)"
   ]
  }
 ],
 "metadata": {
  "kernelspec": {
   "display_name": "Python 3.9.7 ('tf')",
   "language": "python",
   "name": "python3"
  },
  "language_info": {
   "codemirror_mode": {
    "name": "ipython",
    "version": 3
   },
   "file_extension": ".py",
   "mimetype": "text/x-python",
   "name": "python",
   "nbconvert_exporter": "python",
   "pygments_lexer": "ipython3",
   "version": "3.9.7"
  },
  "orig_nbformat": 4,
  "vscode": {
   "interpreter": {
    "hash": "d0eed9422d3b6c012327c82824da2c3cc1115dadb006bfd9a899d8ed44f220fb"
   }
  }
 },
 "nbformat": 4,
 "nbformat_minor": 2
}
