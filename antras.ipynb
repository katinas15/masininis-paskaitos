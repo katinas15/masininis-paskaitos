{
  "cells": [
    {
      "cell_type": "code",
      "execution_count": 2,
      "metadata": {
        "id": "tkXXKJwU4A57"
      },
      "outputs": [],
      "source": [
        "import pandas as pd\n",
        "dataset = [\n",
        "    ['A', 'D', 5],\n",
        "    ['A', 'B', 7],\n",
        "    ['B', 'D', 9],\n",
        "    ['B', 'C', 8],\n",
        "    ['B', 'E', 7],\n",
        "    ['C', 'E', 5],\n",
        "    ['D', 'E', 15],\n",
        "    ['D', 'F', 6],\n",
        "    ['E', 'F', 8],\n",
        "    ['E', 'G', 9],\n",
        "    ['F', 'G', 11],\n",
        "]\n"
      ]
    },
    {
      "cell_type": "code",
      "execution_count": 3,
      "metadata": {
        "colab": {
          "base_uri": "https://localhost:8080/"
        },
        "id": "Zg3ShPC94A5-",
        "outputId": "e2b30c01-888f-4e52-ba6f-a93ebb6b61a0"
      },
      "outputs": [
        {
          "name": "stdout",
          "output_type": "stream",
          "text": [
            "['A', 'B', 'C', 'D', 'E', 'F', 'G']\n",
            "  start end  distance\n",
            "0     D   A         5\n",
            "1     D   F         6\n",
            "2     A   B         7\n",
            "3     B   E         7\n",
            "4     E   C         5\n",
            "5     E   G         9\n"
          ]
        }
      ],
      "source": [
        "#pirmas\n",
        "df = pd.DataFrame(dataset, columns=['start', 'end', 'distance'])\n",
        "# print(df)\n",
        "\n",
        "startingPoint = 'D'\n",
        "chosenPoints = [startingPoint]\n",
        "connections = []\n",
        "while True:\n",
        "    # print('---')\n",
        "    foundNeighbours = df[(df[\"start\"].isin(chosenPoints) & ~df[\"end\"].isin(chosenPoints)) \\\n",
        "        | ~df[\"start\"].isin(chosenPoints) & df[\"end\"].isin(chosenPoints)] \n",
        "    if not len(foundNeighbours):\n",
        "        break\n",
        "    # print(foundNeighbours)\n",
        "    closestNeighbour = foundNeighbours.loc[foundNeighbours.distance.idxmin()]\n",
        "    \n",
        "    # print(closestNeighbour)\n",
        "    if not closestNeighbour.start in chosenPoints:\n",
        "        chosenPoints.append(closestNeighbour.start)\n",
        "        connections.append([closestNeighbour.end, closestNeighbour.start, closestNeighbour.distance])\n",
        "    elif not closestNeighbour.end in chosenPoints:\n",
        "        chosenPoints.append(closestNeighbour.end)\n",
        "        connections.append([closestNeighbour.start, closestNeighbour.end, closestNeighbour.distance])\n",
        "\n",
        "\n",
        "# print(chosenPoints)\n",
        "chosenPoints.sort()\n",
        "print(chosenPoints)\n",
        "connections = pd.DataFrame(connections, columns=['start', 'end', 'distance'])\n",
        "print(connections)\n",
        "    \n"
      ]
    },
    {
      "cell_type": "code",
      "execution_count": 4,
      "metadata": {
        "colab": {
          "base_uri": "https://localhost:8080/"
        },
        "id": "OEdo35Xx4A6A",
        "outputId": "2afba727-e6b3-4e00-9dc3-578a91ede8d9"
      },
      "outputs": [
        {
          "name": "stdout",
          "output_type": "stream",
          "text": [
            "[['D', 'A']]\n",
            "[['D', 'A', 'F']]\n",
            "[['D', 'A', 'F'], ['B', 'E']]\n",
            "[['D', 'A', 'F'], ['B', 'E', 'C']]\n",
            "[['D', 'A', 'F'], ['B', 'E', 'C'], ['G']]\n"
          ]
        }
      ],
      "source": [
        "#antras\n",
        "clusterPoints = chosenPoints\n",
        "clusterConnections = connections\n",
        "numberOfClusters = 3\n",
        "for i in range(numberOfClusters - 1):\n",
        "    clusterConnections = clusterConnections.drop(clusterConnections[\"distance\"].idxmax())\n",
        "\n",
        "clusterConnections.index = range(len(clusterConnections.index))\n",
        "# print(clusterConnections)\n",
        "\n",
        "foundClusters = []\n",
        "for index in range(len(clusterConnections)):\n",
        "    connection = clusterConnections.loc[index]\n",
        "    curr = (connection.start, connection.end)\n",
        "    \n",
        "    addedToCluster = False\n",
        "    for cluster in foundClusters:\n",
        "        if connection.start in cluster:\n",
        "            cluster.append(connection.end)\n",
        "            addedToCluster = True\n",
        "            break\n",
        "        elif connection.end in cluster:\n",
        "            cluster.append(connection.start)\n",
        "            addedToCluster = True\n",
        "            break\n",
        "\n",
        "    if not addedToCluster:\n",
        "        foundClusters.append([connection.start, connection.end])\n",
        "    print(foundClusters)\n",
        "\n",
        "for point in clusterPoints:\n",
        "    hasCluster = True\n",
        "    for cluster in foundClusters:\n",
        "        if not point in cluster:\n",
        "            hasCluster = False\n",
        "        if point in cluster:\n",
        "            hasCluster = True\n",
        "            break\n",
        "\n",
        "\n",
        "    if not hasCluster:\n",
        "        foundClusters.append([point])\n",
        "\n",
        "print(foundClusters)"
      ]
    },
    {
      "cell_type": "code",
      "execution_count": 5,
      "metadata": {},
      "outputs": [],
      "source": [
        "#trecias\n",
        "import pandas as pd\n",
        "from scipy.spatial.distance import cdist\n",
        "import numpy as np\n",
        "dataset = [\n",
        "    [\"Vardas1\", 1, 1, 1, 1, 1, 1, 1, 0, 0, 1],\n",
        "    [\"Vardas2\", 1, 1, 1, 1, 1, 1, 1, 0, 0, 0],\n",
        "    [\"Vardas3\", 1, 0, 1, 0, 0, 0, 1, 0, 0, 1],\n",
        "    [\"Vardas4\", 1, 1, 0, 0, 1, 0, 1, 0, 0, 0],\n",
        "    [\"Vardas5\", 0, 0, 1, 0, 0, 0, 0, 0, 1, 0],\n",
        "    [\"Vardas6\", 0, 1, 1, 1, 1, 0, 1, 0, 0, 0],\n",
        "    [\"Vardas7\", 0, 0, 1, 0, 0, 1, 1, 0, 0, 0],\n",
        "    [\"Vardas8\", 1, 1, 1, 0, 1, 0, 1, 0, 0, 1],\n",
        "    [\"Vardas9\", 0, 0, 1, 0, 0, 0, 1, 1, 0, 1],\n",
        "    [\"Vardas10\", 0, 0, 1, 0, 0, 0, 0, 0, 1, 0],\n",
        "    [\"Vardas11\", 1, 1, 1, 1, 1, 1, 1, 0, 1, 1],\n",
        "    [\"Vardas12\", 1, 1, 1, 1, 1, 1, 1, 1, 0, 0],\n",
        "    [\"Vardas13\", 1, 0, 1, 1, 1, 1, 1, 0, 0, 1],\n",
        "    [\"Vardas14\", 1, 1, 1, 1, 1, 0, 1, 0, 0, 1],\n",
        "    [\"Vardas15\", 0, 0, 1, 0, 0, 0, 1, 1, 0, 1],\n",
        "]\n",
        "\n",
        "valueColumns = ['p1', 'p2', 'p3', 'p4', 'p5', 'p6', 'p7', 'p8', 'p9', 'p10']\n",
        "df = pd.DataFrame(dataset, columns=['pacientas', 'p1', 'p2', 'p3', 'p4', 'p5', 'p6', 'p7', 'p8', 'p9', 'p10'])\n",
        "allPoints = df.drop(\"pacientas\", axis=1)\n",
        "\n",
        "radius = 1.5\n",
        "error = 0.01"
      ]
    },
    {
      "cell_type": "code",
      "execution_count": 6,
      "metadata": {
        "colab": {
          "base_uri": "https://localhost:8080/",
          "height": 1000
        },
        "id": "pZO_wttF4A6C",
        "outputId": "c488d548-036b-4b35-ea57-c7efad5f1337"
      },
      "outputs": [
        {
          "name": "stdout",
          "output_type": "stream",
          "text": [
            "          0         1         2         3         4         5         6   \\\n",
            "0   0.000000  1.000000  2.000000  2.000000  2.828427  1.732051  2.236068   \n",
            "1   1.000000  0.000000  2.236068  1.732051  2.645751  1.414214  2.000000   \n",
            "2   2.000000  2.236068  0.000000  2.000000  2.000000  2.236068  1.732051   \n",
            "3   2.000000  1.732051  2.000000  0.000000  2.449490  1.732051  2.236068   \n",
            "4   2.828427  2.645751  2.000000  2.449490  0.000000  2.236068  1.732051   \n",
            "5   1.732051  1.414214  2.236068  1.732051  2.236068  0.000000  2.000000   \n",
            "6   2.236068  2.000000  1.732051  2.236068  1.732051  2.000000  0.000000   \n",
            "7   1.414214  1.732051  1.414214  1.414214  2.449490  1.732051  2.236068   \n",
            "8   2.449490  2.645751  1.414214  2.449490  2.000000  2.236068  1.732051   \n",
            "9   2.828427  2.645751  2.000000  2.449490  0.000000  2.236068  1.732051   \n",
            "10  1.000000  1.414214  2.236068  2.236068  2.645751  2.000000  2.449490   \n",
            "11  1.414214  1.000000  2.449490  2.000000  2.828427  1.732051  2.236068   \n",
            "12  1.000000  1.414214  1.732051  2.236068  2.645751  2.000000  2.000000   \n",
            "13  1.000000  1.414214  1.732051  1.732051  2.645751  1.414214  2.449490   \n",
            "14  2.449490  2.645751  1.414214  2.449490  2.000000  2.236068  1.732051   \n",
            "\n",
            "          7         8         9         10        11        12        13  \\\n",
            "0   1.414214  2.449490  2.828427  1.000000  1.414214  1.000000  1.000000   \n",
            "1   1.732051  2.645751  2.645751  1.414214  1.000000  1.414214  1.414214   \n",
            "2   1.414214  1.414214  2.000000  2.236068  2.449490  1.732051  1.732051   \n",
            "3   1.414214  2.449490  2.449490  2.236068  2.000000  2.236068  1.732051   \n",
            "4   2.449490  2.000000  0.000000  2.645751  2.828427  2.645751  2.645751   \n",
            "5   1.732051  2.236068  2.236068  2.000000  1.732051  2.000000  1.414214   \n",
            "6   2.236068  1.732051  1.732051  2.449490  2.236068  2.000000  2.449490   \n",
            "7   0.000000  2.000000  2.449490  1.732051  2.000000  1.732051  1.000000   \n",
            "8   2.000000  0.000000  2.000000  2.645751  2.449490  2.236068  2.236068   \n",
            "9   2.449490  2.000000  0.000000  2.645751  2.828427  2.645751  2.645751   \n",
            "10  1.732051  2.645751  2.645751  0.000000  1.732051  1.414214  1.414214   \n",
            "11  2.000000  2.449490  2.828427  1.732051  0.000000  1.732051  1.732051   \n",
            "12  1.732051  2.236068  2.645751  1.414214  1.732051  0.000000  1.414214   \n",
            "13  1.000000  2.236068  2.645751  1.414214  1.732051  1.414214  0.000000   \n",
            "14  2.000000  0.000000  2.000000  2.645751  2.449490  2.236068  2.236068   \n",
            "\n",
            "          14  \n",
            "0   2.449490  \n",
            "1   2.645751  \n",
            "2   1.414214  \n",
            "3   2.449490  \n",
            "4   2.000000  \n",
            "5   2.236068  \n",
            "6   1.732051  \n",
            "7   2.000000  \n",
            "8   0.000000  \n",
            "9   2.000000  \n",
            "10  2.645751  \n",
            "11  2.449490  \n",
            "12  2.236068  \n",
            "13  2.236068  \n",
            "14  0.000000  \n",
            "0.7905694150420949\n",
            "     p1    p2   p3   p4    p5   p6   p7   p8   p9  p10\n",
            "2   1.0  0.00  1.0  0.0  0.00  0.0  1.0  0.0  0.0  1.0\n",
            "7   1.0  1.00  1.0  0.0  1.00  0.0  1.0  0.0  0.0  1.0\n",
            "8   0.0  0.00  1.0  0.0  0.00  0.0  1.0  1.0  0.0  1.0\n",
            "14  0.0  0.00  1.0  0.0  0.00  0.0  1.0  1.0  0.0  1.0\n",
            "15  0.5  0.25  1.0  0.0  0.25  0.0  1.0  0.5  0.0  1.0\n",
            "          0         1         2         3         4         5         6   \\\n",
            "0   0.000000  1.000000  2.000000  2.828427  1.732051  2.236068  2.828427   \n",
            "1   1.000000  0.000000  1.732051  2.645751  1.414214  2.000000  2.645751   \n",
            "2   2.000000  1.732051  0.000000  2.449490  1.732051  2.236068  2.449490   \n",
            "3   2.828427  2.645751  2.449490  0.000000  2.236068  1.732051  0.000000   \n",
            "4   1.732051  1.414214  1.732051  2.236068  0.000000  2.000000  2.236068   \n",
            "5   2.236068  2.000000  2.236068  1.732051  2.000000  0.000000  1.732051   \n",
            "6   2.828427  2.645751  2.449490  0.000000  2.236068  1.732051  0.000000   \n",
            "7   1.000000  1.414214  2.236068  2.645751  2.000000  2.449490  2.645751   \n",
            "8   1.414214  1.000000  2.000000  2.828427  1.732051  2.236068  2.828427   \n",
            "9   1.000000  1.414214  2.236068  2.645751  2.000000  2.000000  2.645751   \n",
            "10  1.000000  1.414214  1.732051  2.645751  1.414214  2.449490  2.645751   \n",
            "\n",
            "          7         8         9         10  \n",
            "0   1.000000  1.414214  1.000000  1.000000  \n",
            "1   1.414214  1.000000  1.414214  1.414214  \n",
            "2   2.236068  2.000000  2.236068  1.732051  \n",
            "3   2.645751  2.828427  2.645751  2.645751  \n",
            "4   2.000000  1.732051  2.000000  1.414214  \n",
            "5   2.449490  2.236068  2.000000  2.449490  \n",
            "6   2.645751  2.828427  2.645751  2.645751  \n",
            "7   0.000000  1.732051  1.414214  1.414214  \n",
            "8   1.732051  0.000000  1.732051  1.732051  \n",
            "9   1.414214  1.732051  0.000000  1.414214  \n",
            "10  1.414214  1.732051  1.414214  0.000000  \n",
            "          0         1         2         3         4         5         6  \\\n",
            "0  0.000000  1.000000  2.000000  2.828427  1.732051  2.828427  1.000000   \n",
            "1  1.000000  0.000000  1.732051  2.645751  1.414214  2.645751  1.414214   \n",
            "2  2.000000  1.732051  0.000000  2.449490  1.732051  2.449490  2.236068   \n",
            "3  2.828427  2.645751  2.449490  0.000000  2.236068  0.000000  2.645751   \n",
            "4  1.732051  1.414214  1.732051  2.236068  0.000000  2.236068  2.000000   \n",
            "5  2.828427  2.645751  2.449490  0.000000  2.236068  0.000000  2.645751   \n",
            "6  1.000000  1.414214  2.236068  2.645751  2.000000  2.645751  0.000000   \n",
            "7  1.414214  1.000000  2.000000  2.828427  1.732051  2.828427  1.732051   \n",
            "8  1.000000  1.414214  2.236068  2.645751  2.000000  2.645751  1.414214   \n",
            "9  1.000000  1.414214  1.732051  2.645751  1.414214  2.645751  1.414214   \n",
            "\n",
            "          7         8         9  \n",
            "0  1.414214  1.000000  1.000000  \n",
            "1  1.000000  1.414214  1.414214  \n",
            "2  2.000000  2.236068  1.732051  \n",
            "3  2.828427  2.645751  2.645751  \n",
            "4  1.732051  2.000000  1.414214  \n",
            "5  2.828427  2.645751  2.645751  \n",
            "6  1.732051  1.414214  1.414214  \n",
            "7  0.000000  1.732051  1.732051  \n",
            "8  1.732051  0.000000  1.414214  \n",
            "9  1.732051  1.414214  0.000000  \n",
            "0.7993052538854531\n",
            "          p1        p2   p3   p4   p5        p6   p7   p8        p9       p10\n",
            "0   1.000000  1.000000  1.0  1.0  1.0  1.000000  1.0  0.0  0.000000  1.000000\n",
            "1   1.000000  1.000000  1.0  1.0  1.0  1.000000  1.0  0.0  0.000000  0.000000\n",
            "4   0.000000  1.000000  1.0  1.0  1.0  0.000000  1.0  0.0  0.000000  0.000000\n",
            "6   1.000000  1.000000  1.0  1.0  1.0  1.000000  1.0  0.0  1.000000  1.000000\n",
            "7   1.000000  1.000000  1.0  1.0  1.0  1.000000  1.0  1.0  0.000000  0.000000\n",
            "8   1.000000  0.000000  1.0  1.0  1.0  1.000000  1.0  0.0  0.000000  1.000000\n",
            "9   1.000000  1.000000  1.0  1.0  1.0  0.000000  1.0  0.0  0.000000  1.000000\n",
            "10  0.833333  0.833333  1.0  1.0  1.0  0.666667  1.0  0.0  0.166667  0.666667\n",
            "0.16002386974726268\n",
            "          p1        p2   p3   p4   p5        p6   p7     p8        p9  \\\n",
            "0   1.000000  1.000000  1.0  1.0  1.0  1.000000  1.0  0.000  0.000000   \n",
            "1   1.000000  1.000000  1.0  1.0  1.0  1.000000  1.0  0.000  0.000000   \n",
            "4   0.000000  1.000000  1.0  1.0  1.0  0.000000  1.0  0.000  0.000000   \n",
            "6   1.000000  1.000000  1.0  1.0  1.0  1.000000  1.0  0.000  1.000000   \n",
            "7   1.000000  1.000000  1.0  1.0  1.0  1.000000  1.0  1.000  0.000000   \n",
            "8   1.000000  0.000000  1.0  1.0  1.0  1.000000  1.0  0.000  0.000000   \n",
            "9   1.000000  1.000000  1.0  1.0  1.0  0.000000  1.0  0.000  0.000000   \n",
            "10  0.854167  0.854167  1.0  1.0  1.0  0.708333  1.0  0.125  0.145833   \n",
            "\n",
            "         p10  \n",
            "0   1.000000  \n",
            "1   0.000000  \n",
            "4   0.000000  \n",
            "6   1.000000  \n",
            "7   0.000000  \n",
            "8   1.000000  \n",
            "9   1.000000  \n",
            "10  0.583333  \n",
            "0.020002983718407818\n",
            "          p1        p2   p3   p4   p5        p6   p7        p8        p9  \\\n",
            "0   1.000000  1.000000  1.0  1.0  1.0  1.000000  1.0  0.000000  0.000000   \n",
            "1   1.000000  1.000000  1.0  1.0  1.0  1.000000  1.0  0.000000  0.000000   \n",
            "4   0.000000  1.000000  1.0  1.0  1.0  0.000000  1.0  0.000000  0.000000   \n",
            "6   1.000000  1.000000  1.0  1.0  1.0  1.000000  1.0  0.000000  1.000000   \n",
            "7   1.000000  1.000000  1.0  1.0  1.0  1.000000  1.0  1.000000  0.000000   \n",
            "8   1.000000  0.000000  1.0  1.0  1.0  1.000000  1.0  0.000000  0.000000   \n",
            "9   1.000000  1.000000  1.0  1.0  1.0  0.000000  1.0  0.000000  0.000000   \n",
            "10  0.856771  0.856771  1.0  1.0  1.0  0.713542  1.0  0.140625  0.143229   \n",
            "\n",
            "         p10  \n",
            "0   1.000000  \n",
            "1   0.000000  \n",
            "4   0.000000  \n",
            "6   1.000000  \n",
            "7   0.000000  \n",
            "8   1.000000  \n",
            "9   1.000000  \n",
            "10  0.572917  \n",
            "         0        1        2\n",
            "0  0.00000  2.44949  2.44949\n",
            "1  2.44949  0.00000  0.00000\n",
            "2  2.44949  0.00000  0.00000\n",
            "     0    1\n",
            "0  0.0  0.0\n",
            "1  0.0  0.0\n",
            "centers\n",
            "         p1        p2   p3   p4    p5        p6   p7        p8        p9  \\\n",
            "0  0.500000  0.250000  1.0  0.0  0.25  0.000000  1.0  0.500000  0.000000   \n",
            "5  0.000000  0.000000  1.0  0.0  0.00  1.000000  1.0  0.000000  0.000000   \n",
            "0  0.856771  0.856771  1.0  1.0  1.00  0.713542  1.0  0.140625  0.143229   \n",
            "0  1.000000  1.000000  0.0  0.0  1.00  0.000000  1.0  0.000000  0.000000   \n",
            "1  0.000000  0.000000  1.0  0.0  0.00  0.000000  0.0  0.000000  1.000000   \n",
            "\n",
            "        p10  \n",
            "0  1.000000  \n",
            "5  0.000000  \n",
            "0  0.572917  \n",
            "0  0.000000  \n",
            "1  0.000000  \n"
          ]
        }
      ],
      "source": [
        "from scipy.spatial import distance\n",
        "\n",
        "centers = pd.DataFrame([], columns=valueColumns)\n",
        "points = allPoints\n",
        "while len(points):\n",
        "    current_point = points.sample(n = 1)\n",
        "    # print(current_point)\n",
        "    current_point_index = current_point.index.values[0]\n",
        "\n",
        "    distances = pd.DataFrame(cdist(points, points, 'euclidean'))\n",
        "    print(distances)\n",
        "    distancesToPoint = distances[current_point_index]\n",
        "    neighboursIndexes = [index for index, distance in enumerate(distancesToPoint) if distance < radius]\n",
        "    neighbours = points.loc[neighboursIndexes]\n",
        "    # print(neighbours)\n",
        "    center = [np.mean(neighbours[column].values) for column in neighbours]\n",
        "    # print(distance.euclidean(current_point, center))\n",
        "    while distance.euclidean(current_point, center) > error:\n",
        "        print(distance.euclidean(current_point, center))\n",
        "    # while True:\n",
        "        # print('----')\n",
        "        # print(center)\n",
        "        current_point = pd.DataFrame([center], columns=valueColumns)\n",
        "        # print('center V')\n",
        "        # print(current_point)\n",
        "        pointsWithCenter = points.append(current_point, ignore_index = True)\n",
        "        current_point_index = len(pointsWithCenter) - 1\n",
        "        # print(pointsWithCenter)\n",
        "        \n",
        "        distances = pd.DataFrame(cdist(pointsWithCenter, pointsWithCenter, 'euclidean'))\n",
        "        # print(distances)\n",
        "        distancesToPoint = distances[current_point_index]\n",
        "        neighboursIndexes = [index for index, distance in enumerate(distancesToPoint) if distance < radius]\n",
        "        neighbours = pointsWithCenter.loc[neighboursIndexes]\n",
        "        # print('---')\n",
        "        print(neighbours)\n",
        "\n",
        "        center = [np.mean(neighbours[column].values) for column in neighbours]\n",
        "        neighbours = neighbours.drop(current_point_index)\n",
        "\n",
        "        # break;\n",
        "    # while np.linalg.norm(current_point - centroid) > tol:\n",
        "\n",
        "    # print(points)\n",
        "    # print(neighbours.index.values)\n",
        "    points = points.drop(neighbours.index.values)\n",
        "    # print('removed points', neighbours.index.values)\n",
        "    points.index = range(len(points.index))\n",
        "\n",
        "    # print(points)\n",
        "    # print('adding center')\n",
        "    # print(current_point)\n",
        "    centers = centers.append(current_point)\n",
        "print('centers')\n",
        "print(centers)\n"
      ]
    },
    {
      "cell_type": "code",
      "execution_count": 7,
      "metadata": {},
      "outputs": [
        {
          "name": "stdout",
          "output_type": "stream",
          "text": [
            "['Vardas3' 'Vardas8' 'Vardas9' 'Vardas15']\n",
            "----\n",
            "['Vardas7']\n",
            "----\n",
            "['Vardas1' 'Vardas2' 'Vardas6' 'Vardas8' 'Vardas11' 'Vardas12' 'Vardas13'\n",
            " 'Vardas14']\n",
            "----\n",
            "['Vardas4' 'Vardas8']\n",
            "----\n",
            "['Vardas5' 'Vardas10']\n",
            "----\n"
          ]
        }
      ],
      "source": [
        "# print(centers)\n",
        "clusters = []\n",
        "# print('clusters')\n",
        "# print('clusters')\n",
        "# print('clusters')\n",
        "centers.index = range(len(centers.index))\n",
        "# print(centers)\n",
        "\n",
        "for index in range(len(centers)):\n",
        "    # print('center index', index)\n",
        "    points = allPoints\n",
        "    center = centers.loc[[index]].values[0]\n",
        "    current_point = pd.DataFrame([center], columns=valueColumns)\n",
        "\n",
        "    # print(center)\n",
        "\n",
        "    current_point = pd.DataFrame(current_point, columns=valueColumns)\n",
        "\n",
        "    pointsWithCenter = points.append(current_point, ignore_index = True)\n",
        "    current_point_index = len(pointsWithCenter) - 1\n",
        "    # print(pointsWithCenter)\n",
        "    \n",
        "    distances = pd.DataFrame(cdist(pointsWithCenter, pointsWithCenter, 'euclidean'))\n",
        "    distancesToPoint = distances[current_point_index]\n",
        "    neighboursIndexes = [index for index, distance in enumerate(distancesToPoint) if distance < radius]\n",
        "\n",
        "    neighbours = df.loc[neighboursIndexes[:-1]]\n",
        "    # print(neighbours)\n",
        "    print(neighbours.pacientas.values)\n",
        "    print('----')\n",
        "    clusters.append(neighbours.pacientas.values)\n",
        "# print(clusters)\n",
        "    # Initialize a set of non-clustered points U := X and the set of clusters C := ∅.\n",
        "    #   Length U != ∅:\n",
        "    #   Choose a random point x0.\n",
        "    #   While the process is not stable\n",
        "    #       Form a cluster c = {x ∈ X|ρ(x, x0) < R}.\n",
        "    #       x0 := 1/|c| Ex∈c x.\n",
        "    #   U := U \\ c, C := C ∪ {c}\n",
        "    #   Return the set of received clusters C"
      ]
    },
    {
      "cell_type": "code",
      "execution_count": 33,
      "metadata": {},
      "outputs": [
        {
          "name": "stdout",
          "output_type": "stream",
          "text": [
            "[-1 -1 -1 -1  0 -1 -1 -1  1  0 -1 -1 -1 -1  1]\n",
            "{-1: ['Vardas1', 'Vardas2', 'Vardas3', 'Vardas4', 'Vardas6', 'Vardas7', 'Vardas8', 'Vardas11', 'Vardas12', 'Vardas13', 'Vardas14'], 0: ['Vardas5', 'Vardas10'], 1: ['Vardas9', 'Vardas15']}\n"
          ]
        }
      ],
      "source": [
        "#ketvirtas\n",
        "import matplotlib.pyplot as plt\n",
        "from sklearn.cluster import DBSCAN\n",
        "x = allPoints.values.tolist()\n",
        "clustering = DBSCAN(eps=0.8, min_samples=2, metric='euclidean').fit(x) # min_samples\n",
        "# objektų skaičius kaiminystėje, norint, kad taškas būtų laikomas šakniniu;\n",
        "#eps- Didžiausias atstumas tarp dviejų objektų, kad vienas būtų laikomas šalia kito.\n",
        "print(clustering.labels_)\n",
        "\n",
        "clusters = {}\n",
        "for index, label in enumerate(clustering.labels_):\n",
        "    name = df.loc[[index]].values[0][0]\n",
        "    if not clusters.get(label):\n",
        "        clusters[label] = [name]\n",
        "    else:\n",
        "        temp = clusters[label]\n",
        "        temp.append(name)\n",
        "        clusters[label] = temp\n",
        "print(clusters)\n"
      ]
    },
    {
      "cell_type": "code",
      "execution_count": 9,
      "metadata": {},
      "outputs": [
        {
          "name": "stdout",
          "output_type": "stream",
          "text": [
            "{1: ['Vardas1', 'Vardas2', 'Vardas4', 'Vardas6', 'Vardas8', 'Vardas11', 'Vardas12', 'Vardas13', 'Vardas14'], 2: ['Vardas3', 'Vardas9', 'Vardas15'], 0: ['Vardas5', 'Vardas7', 'Vardas10']}\n"
          ]
        }
      ],
      "source": [
        "#penktas\n",
        "import numpy as np\n",
        "from sklearn import datasets\n",
        "from sklearn.cluster import KMeans\n",
        "x = allPoints.values.tolist()\n",
        "kmeans = KMeans(n_clusters=3).fit(x)\n",
        "kmeans.labels_\n",
        "\n",
        "clusters = {}\n",
        "for index, label in enumerate(kmeans.labels_):\n",
        "    name = df.loc[[index]].values[0][0]\n",
        "    if not clusters.get(label):\n",
        "        clusters[label] = [name]\n",
        "    else:\n",
        "        temp = clusters[label]\n",
        "        temp.append(name)\n",
        "        clusters[label] = temp\n",
        "print(clusters)\n"
      ]
    },
    {
      "cell_type": "code",
      "execution_count": 21,
      "metadata": {},
      "outputs": [
        {
          "name": "stderr",
          "output_type": "stream",
          "text": [
            "c:\\Users\\laimo\\anaconda3\\envs\\tf\\lib\\site-packages\\sklearn\\cluster\\_kmeans.py:1039: UserWarning: KMeans is known to have a memory leak on Windows with MKL, when there are less chunks than available threads. You can avoid it by setting the environment variable OMP_NUM_THREADS=1.\n",
            "  warnings.warn(\n"
          ]
        },
        {
          "data": {
            "image/png": "[encoded data removed]",
            "text/plain": [
              "<Figure size 1152x576 with 1 Axes>"
            ]
          },
          "metadata": {},
          "output_type": "display_data"
        }
      ],
      "source": [
        "\n",
        "distortions = []\n",
        "K = range(1,10)\n",
        "x = allPoints.values.tolist()\n",
        "for k in K:\n",
        "    kmeanModel = KMeans(n_clusters=k)\n",
        "    kmeanModel.fit(x)\n",
        "    distortions.append(kmeanModel.inertia_)\n",
        "\n",
        "plt.figure(figsize=(16,8))\n",
        "plt.plot(K, distortions, 'bx-')\n",
        "plt.xlabel('k')\n",
        "plt.ylabel('Distortion')\n",
        "plt.title('The Elbow Method showing the optimal k')\n",
        "plt.show()"
      ]
    },
    {
      "cell_type": "code",
      "execution_count": 32,
      "metadata": {},
      "outputs": [
        {
          "data": {
            "image/png": "[encoded data removed]",
            "text/plain": [
              "<Figure size 576x396 with 2 Axes>"
            ]
          },
          "metadata": {},
          "output_type": "display_data"
        },
        {
          "data": {
            "text/plain": [
              "KElbowVisualizer(ax=<AxesSubplot:title={'center':'Distortion Score Elbow for KMeans Clustering'}, xlabel='k', ylabel='distortion score'>,\n",
              "                 estimator=KMeans(n_clusters=9, random_state=4), k=(2, 10))"
            ]
          },
          "execution_count": 32,
          "metadata": {},
          "output_type": "execute_result"
        }
      ],
      "source": [
        "from yellowbrick.cluster.elbow import kelbow_visualizer\n",
        "\n",
        "K = range(1,15)\n",
        "x = allPoints.values\n",
        "\n",
        "kelbow_visualizer(KMeans(random_state=4), x, k=(2,10))\n"
      ]
    },
    {
      "cell_type": "code",
      "execution_count": 68,
      "metadata": {},
      "outputs": [
        {
          "name": "stdout",
          "output_type": "stream",
          "text": [
            "[-1 -1 -1 -1  0 -1 -1 -1  1  0 -1 -1 -1 -1  1]\n",
            "[2.75753145 2.46993024 1.53595385 1.4871001  0.50796907 1.87184223\n",
            " 1.13516793 2.21703162 1.26737283 0.50796907 2.8231702  2.55698559\n",
            " 2.43783286 2.5150798  1.26737283]\n"
          ]
        },
        {
          "data": {
            "image/png": "[encoded data removed]",
            "text/plain": [
              "<Figure size 1440x1080 with 1 Axes>"
            ]
          },
          "metadata": {},
          "output_type": "display_data"
        }
      ],
      "source": [
        "#septinta\n",
        "x = allPoints.values.tolist()\n",
        "from sklearn.decomposition import TruncatedSVD\n",
        "svd = TruncatedSVD(n_components = 2)\n",
        "x_transformed = svd.fit_transform(x)\n",
        "clustering = DBSCAN(eps=0.8, min_samples=2, metric='euclidean').fit(x) # min_samples\n",
        "# objektų skaičius kaiminystėje, norint, kad taškas būtų laikomas šakniniu;\n",
        "#eps- Didžiausias atstumas tarp dviejų objektų, kad vienas būtų laikomas šalia kito.\n",
        "print(clustering.labels_)\n",
        "\n",
        "plt.subplots(figsize=(20, 15))\n",
        "print(x_transformed[:, 0])\n",
        "plt.scatter(x_transformed[:, 0], x_transformed[:, 1], s=100,cmap='viridis')\n",
        "for index, label in enumerate(clustering.labels_):\n",
        "    plt.annotate(label, (x_transformed[:, 0][index], x_transformed[:, 1][index]), fontsize=24)"
      ]
    },
    {
      "cell_type": "code",
      "execution_count": 66,
      "metadata": {},
      "outputs": [
        {
          "name": "stdout",
          "output_type": "stream",
          "text": [
            "[1 1 0 1 2 1 0 1 0 2 1 1 1 1 0]\n",
            "[2.75753145 2.46993024 1.53595385 1.4871001  0.50796907 1.87184223\n",
            " 1.13516793 2.21703162 1.26737283 0.50796907 2.8231702  2.55698559\n",
            " 2.43783286 2.5150798  1.26737283]\n"
          ]
        },
        {
          "data": {
            "text/plain": [
              "<matplotlib.collections.PathCollection at 0x180a84a7760>"
            ]
          },
          "execution_count": 66,
          "metadata": {},
          "output_type": "execute_result"
        },
        {
          "data": {
            "image/png": "[encoded data removed]",
            "text/plain": [
              "<Figure size 1440x1080 with 1 Axes>"
            ]
          },
          "metadata": {},
          "output_type": "display_data"
        }
      ],
      "source": [
        "#septinta\n",
        "x = allPoints.values.tolist()\n",
        "from sklearn.decomposition import TruncatedSVD\n",
        "svd = TruncatedSVD(n_components = 2)\n",
        "x_transformed = svd.fit_transform(x)\n",
        "kmeans = KMeans(n_clusters=3).fit(x)\n",
        "kmeans.labels_\n",
        "\n",
        "print(kmeans.labels_)\n",
        "\n",
        "plt.subplots(figsize=(20, 15))\n",
        "print(x_transformed[:, 0])\n",
        "plt.scatter(x_transformed[:, 0], x_transformed[:, 1], c=kmeans.labels_, s=500, cmap='viridis')"
      ]
    }
  ],
  "metadata": {
    "colab": {
      "provenance": []
    },
    "kernelspec": {
      "display_name": "Python 3.9.7 ('tf')",
      "language": "python",
      "name": "python3"
    },
    "language_info": {
      "codemirror_mode": {
        "name": "ipython",
        "version": 3
      },
      "file_extension": ".py",
      "mimetype": "text/x-python",
      "name": "python",
      "nbconvert_exporter": "python",
      "pygments_lexer": "ipython3",
      "version": "3.9.7"
    },
    "orig_nbformat": 4,
    "vscode": {
      "interpreter": {
        "hash": "d0eed9422d3b6c012327c82824da2c3cc1115dadb006bfd9a899d8ed44f220fb"
      }
    }
  },
  "nbformat": 4,
  "nbformat_minor": 0
}
