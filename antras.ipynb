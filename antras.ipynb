{
 "cells": [
  {
   "cell_type": "code",
   "execution_count": 107,
   "metadata": {},
   "outputs": [
    {
     "name": "stdout",
     "output_type": "stream",
     "text": [
      "['A', 'B', 'C', 'D', 'E', 'F', 'G']\n",
      "  start end  distance\n",
      "0     D   A         5\n",
      "1     D   F         6\n",
      "2     A   B         7\n",
      "3     B   E         7\n",
      "4     E   C         5\n",
      "5     E   G         9\n"
     ]
    }
   ],
   "source": [
    "#pirmas\n",
    "import pandas as pd\n",
    "dataset = [\n",
    "    ['A', 'D', 5],\n",
    "    ['A', 'B', 7],\n",
    "    ['B', 'D', 9],\n",
    "    ['B', 'C', 8],\n",
    "    ['B', 'E', 7],\n",
    "    ['C', 'E', 5],\n",
    "    ['D', 'E', 15],\n",
    "    ['D', 'F', 6],\n",
    "    ['E', 'F', 8],\n",
    "    ['E', 'G', 9],\n",
    "    ['F', 'G', 11],\n",
    "]\n",
    "\n",
    "df = pd.DataFrame(dataset, columns=['start', 'end', 'distance'])\n",
    "# print(df)\n",
    "chosenPoints = ['D']\n",
    "connections = []\n",
    "while True:\n",
    "    # print('---')\n",
    "    foundNeighbours = df[(df[\"start\"].isin(chosenPoints) & ~df[\"end\"].isin(chosenPoints)) \\\n",
    "        | ~df[\"start\"].isin(chosenPoints) & df[\"end\"].isin(chosenPoints)] \n",
    "    if not len(foundNeighbours):\n",
    "        break\n",
    "    # print(foundNeighbours)\n",
    "    closestNeighbour = foundNeighbours.loc[foundNeighbours.distance.idxmin()]\n",
    "    \n",
    "    # print(closestNeighbour)\n",
    "    if not closestNeighbour.start in chosenPoints:\n",
    "        chosenPoints.append(closestNeighbour.start)\n",
    "        connections.append([closestNeighbour.end, closestNeighbour.start, closestNeighbour.distance])\n",
    "    elif not closestNeighbour.end in chosenPoints:\n",
    "        chosenPoints.append(closestNeighbour.end)\n",
    "        connections.append([closestNeighbour.start, closestNeighbour.end, closestNeighbour.distance])\n",
    "\n",
    "\n",
    "# print(chosenPoints)\n",
    "chosenPoints.sort()\n",
    "print(chosenPoints)\n",
    "connections = pd.DataFrame(connections, columns=['start', 'end', 'distance'])\n",
    "print(connections)\n",
    "    \n"
   ]
  }
 ],
 "metadata": {
  "kernelspec": {
   "display_name": "Python 3.9.7 ('tf')",
   "language": "python",
   "name": "python3"
  },
  "language_info": {
   "codemirror_mode": {
    "name": "ipython",
    "version": 3
   },
   "file_extension": ".py",
   "mimetype": "text/x-python",
   "name": "python",
   "nbconvert_exporter": "python",
   "pygments_lexer": "ipython3",
   "version": "3.9.7"
  },
  "orig_nbformat": 4,
  "vscode": {
   "interpreter": {
    "hash": "d0eed9422d3b6c012327c82824da2c3cc1115dadb006bfd9a899d8ed44f220fb"
   }
  }
 },
 "nbformat": 4,
 "nbformat_minor": 2
}
