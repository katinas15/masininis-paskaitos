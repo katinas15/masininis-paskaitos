{
  "cells": [
    {
      "cell_type": "code",
      "execution_count": 13,
      "metadata": {
        "id": "tkXXKJwU4A57"
      },
      "outputs": [],
      "source": [
        "import pandas as pd\n",
        "dataset = [\n",
        "    ['A', 'D', 5],\n",
        "    ['A', 'B', 7],\n",
        "    ['B', 'D', 9],\n",
        "    ['B', 'C', 8],\n",
        "    ['B', 'E', 7],\n",
        "    ['C', 'E', 5],\n",
        "    ['D', 'E', 15],\n",
        "    ['D', 'F', 6],\n",
        "    ['E', 'F', 8],\n",
        "    ['E', 'G', 9],\n",
        "    ['F', 'G', 11],\n",
        "]\n"
      ]
    },
    {
      "cell_type": "code",
      "execution_count": 14,
      "metadata": {
        "colab": {
          "base_uri": "https://localhost:8080/"
        },
        "id": "Zg3ShPC94A5-",
        "outputId": "e2b30c01-888f-4e52-ba6f-a93ebb6b61a0"
      },
      "outputs": [
        {
          "name": "stdout",
          "output_type": "stream",
          "text": [
            "['A', 'B', 'C', 'D', 'E', 'F', 'G']\n",
            "  start end  distance\n",
            "0     D   A         5\n",
            "1     D   F         6\n",
            "2     A   B         7\n",
            "3     B   E         7\n",
            "4     E   C         5\n",
            "5     E   G         9\n"
          ]
        }
      ],
      "source": [
        "#pirmas\n",
        "df = pd.DataFrame(dataset, columns=['start', 'end', 'distance'])\n",
        "# print(df)\n",
        "\n",
        "startingPoint = 'D'\n",
        "chosenPoints = [startingPoint]\n",
        "connections = []\n",
        "while True:\n",
        "    # print('---')\n",
        "    foundNeighbours = df[(df[\"start\"].isin(chosenPoints) & ~df[\"end\"].isin(chosenPoints)) \\\n",
        "        | ~df[\"start\"].isin(chosenPoints) & df[\"end\"].isin(chosenPoints)] \n",
        "    if not len(foundNeighbours):\n",
        "        break\n",
        "    # print(foundNeighbours)\n",
        "    closestNeighbour = foundNeighbours.loc[foundNeighbours.distance.idxmin()]\n",
        "    \n",
        "    # print(closestNeighbour)\n",
        "    if not closestNeighbour.start in chosenPoints:\n",
        "        chosenPoints.append(closestNeighbour.start)\n",
        "        connections.append([closestNeighbour.end, closestNeighbour.start, closestNeighbour.distance])\n",
        "    elif not closestNeighbour.end in chosenPoints:\n",
        "        chosenPoints.append(closestNeighbour.end)\n",
        "        connections.append([closestNeighbour.start, closestNeighbour.end, closestNeighbour.distance])\n",
        "\n",
        "\n",
        "# print(chosenPoints)\n",
        "chosenPoints.sort()\n",
        "print(chosenPoints)\n",
        "connections = pd.DataFrame(connections, columns=['start', 'end', 'distance'])\n",
        "print(connections)\n",
        "    \n"
      ]
    },
    {
      "cell_type": "code",
      "execution_count": 15,
      "metadata": {
        "colab": {
          "base_uri": "https://localhost:8080/"
        },
        "id": "OEdo35Xx4A6A",
        "outputId": "2afba727-e6b3-4e00-9dc3-578a91ede8d9"
      },
      "outputs": [
        {
          "name": "stdout",
          "output_type": "stream",
          "text": [
            "[['D', 'A']]\n",
            "[['D', 'A', 'F']]\n",
            "[['D', 'A', 'F'], ['B', 'E']]\n",
            "[['D', 'A', 'F'], ['B', 'E', 'C']]\n",
            "[['D', 'A', 'F'], ['B', 'E', 'C'], ['G']]\n"
          ]
        }
      ],
      "source": [
        "#antras\n",
        "clusterPoints = chosenPoints\n",
        "clusterConnections = connections\n",
        "numberOfClusters = 3\n",
        "for i in range(numberOfClusters - 1):\n",
        "    clusterConnections = clusterConnections.drop(clusterConnections[\"distance\"].idxmax())\n",
        "\n",
        "clusterConnections.index = range(len(clusterConnections.index))\n",
        "# print(clusterConnections)\n",
        "\n",
        "foundClusters = []\n",
        "for index in range(len(clusterConnections)):\n",
        "    connection = clusterConnections.loc[index]\n",
        "    curr = (connection.start, connection.end)\n",
        "    \n",
        "    addedToCluster = False\n",
        "    for cluster in foundClusters:\n",
        "        if connection.start in cluster:\n",
        "            cluster.append(connection.end)\n",
        "            addedToCluster = True\n",
        "            break\n",
        "        elif connection.end in cluster:\n",
        "            cluster.append(connection.start)\n",
        "            addedToCluster = True\n",
        "            break\n",
        "\n",
        "    if not addedToCluster:\n",
        "        foundClusters.append([connection.start, connection.end])\n",
        "    print(foundClusters)\n",
        "\n",
        "for point in clusterPoints:\n",
        "    hasCluster = True\n",
        "    for cluster in foundClusters:\n",
        "        if not point in cluster:\n",
        "            hasCluster = False\n",
        "        if point in cluster:\n",
        "            hasCluster = True\n",
        "            break\n",
        "\n",
        "\n",
        "    if not hasCluster:\n",
        "        foundClusters.append([point])\n",
        "\n",
        "print(foundClusters)"
      ]
    },
    {
      "cell_type": "code",
      "execution_count": 51,
      "metadata": {},
      "outputs": [],
      "source": [
        "#trecias\n",
        "import pandas as pd\n",
        "from scipy.spatial.distance import cdist\n",
        "import numpy as np\n",
        "dataset = [\n",
        "    [\"Vardas1\", 1, 1, 1, 1, 1, 1, 1, 0, 0, 1],\n",
        "    [\"Vardas2\", 1, 1, 1, 1, 1, 1, 1, 0, 0, 0],\n",
        "    [\"Vardas3\", 1, 0, 1, 0, 0, 0, 1, 0, 0, 1],\n",
        "    [\"Vardas4\", 1, 1, 0, 0, 1, 0, 1, 0, 0, 0],\n",
        "    [\"Vardas5\", 0, 0, 1, 0, 0, 0, 0, 0, 1, 0],\n",
        "    [\"Vardas6\", 0, 1, 1, 1, 1, 0, 1, 0, 0, 0],\n",
        "    [\"Vardas7\", 0, 0, 1, 0, 0, 1, 1, 0, 0, 0],\n",
        "    [\"Vardas8\", 1, 1, 1, 0, 1, 0, 1, 0, 0, 1],\n",
        "    [\"Vardas9\", 0, 0, 1, 0, 0, 0, 1, 1, 0, 1],\n",
        "    [\"Vardas10\", 0, 0, 1, 0, 0, 0, 0, 0, 1, 0],\n",
        "    [\"Vardas11\", 1, 1, 1, 1, 1, 1, 1, 0, 1, 1],\n",
        "    [\"Vardas12\", 1, 1, 1, 1, 1, 1, 1, 1, 0, 0],\n",
        "    [\"Vardas13\", 1, 0, 1, 1, 1, 1, 1, 0, 0, 1],\n",
        "    [\"Vardas14\", 1, 1, 1, 1, 1, 0, 1, 0, 0, 1],\n",
        "    [\"Vardas15\", 0, 0, 1, 0, 0, 0, 1, 1, 0, 1],\n",
        "]\n",
        "\n",
        "valueColumns = ['p1', 'p2', 'p3', 'p4', 'p5', 'p6', 'p7', 'p8', 'p9', 'p10']\n",
        "df = pd.DataFrame(dataset, columns=['pacientas', 'p1', 'p2', 'p3', 'p4', 'p5', 'p6', 'p7', 'p8', 'p9', 'p10'])\n",
        "allPoints = df.drop(\"pacientas\", axis=1)\n",
        "\n",
        "radius = 0.5\n",
        "error = 0.01"
      ]
    },
    {
      "cell_type": "code",
      "execution_count": 46,
      "metadata": {
        "colab": {
          "base_uri": "https://localhost:8080/",
          "height": 1000
        },
        "id": "pZO_wttF4A6C",
        "outputId": "c488d548-036b-4b35-ea57-c7efad5f1337"
      },
      "outputs": [
        {
          "name": "stdout",
          "output_type": "stream",
          "text": [
            "centers\n",
            "  p1 p2 p3 p4 p5 p6 p7 p8 p9 p10\n",
            "4  0  0  1  0  0  0  0  0  1   0\n",
            "6  1  1  1  0  1  0  1  0  0   1\n",
            "1  1  1  1  1  1  1  1  0  0   0\n",
            "1  1  0  1  0  0  0  1  0  0   1\n",
            "8  1  1  1  1  1  0  1  0  0   1\n",
            "2  0  1  1  1  1  0  1  0  0   0\n",
            "3  0  0  1  0  0  0  1  1  0   1\n",
            "0  1  1  1  1  1  1  1  0  0   1\n",
            "4  1  0  1  1  1  1  1  0  0   1\n",
            "0  1  1  0  0  1  0  1  0  0   0\n",
            "2  1  1  1  1  1  1  1  1  0   0\n",
            "0  0  0  1  0  0  1  1  0  0   0\n",
            "0  1  1  1  1  1  1  1  0  1   1\n"
          ]
        }
      ],
      "source": [
        "from scipy.spatial import distance\n",
        "\n",
        "centers = pd.DataFrame([], columns=valueColumns)\n",
        "points = allPoints\n",
        "while len(points):\n",
        "    current_point = points.sample(n = 1)\n",
        "    # print(current_point)\n",
        "    current_point_index = current_point.index.values[0]\n",
        "\n",
        "    distances = pd.DataFrame(cdist(points, points, 'euclidean'))\n",
        "    distancesToPoint = distances[current_point_index]\n",
        "    neighboursIndexes = [index for index, distance in enumerate(distancesToPoint) if distance < radius]\n",
        "    neighbours = points.loc[neighboursIndexes]\n",
        "    # print(neighbours)\n",
        "    center = [np.mean(neighbours[column].values) for column in neighbours]\n",
        "    # print(distance.euclidean(current_point, center))\n",
        "    while distance.euclidean(current_point, center) > error:\n",
        "        print(distance.euclidean(current_point, center))\n",
        "    # while True:\n",
        "        print('----')\n",
        "        # print(center)\n",
        "        current_point = pd.DataFrame([center], columns=valueColumns)\n",
        "        print('center V')\n",
        "        print(current_point)\n",
        "        pointsWithCenter = points.append(current_point, ignore_index = True)\n",
        "        current_point_index = len(pointsWithCenter) - 1\n",
        "        # print(pointsWithCenter)\n",
        "        \n",
        "        distances = pd.DataFrame(cdist(pointsWithCenter, pointsWithCenter, 'euclidean'))\n",
        "        # print(distances)\n",
        "        distancesToPoint = distances[current_point_index]\n",
        "        neighboursIndexes = [index for index, distance in enumerate(distancesToPoint) if distance < radius]\n",
        "        neighbours = pointsWithCenter.loc[neighboursIndexes]\n",
        "        # print('---')\n",
        "        print(neighbours)\n",
        "\n",
        "        center = [np.mean(neighbours[column].values) for column in neighbours]\n",
        "        neighbours = neighbours.drop(current_point_index)\n",
        "\n",
        "        # break;\n",
        "    # while np.linalg.norm(current_point - centroid) > tol:\n",
        "\n",
        "    # print(points)\n",
        "    # print(neighbours.index.values)\n",
        "    points = points.drop(neighbours.index.values)\n",
        "    # print('removed points', neighbours.index.values)\n",
        "    points.index = range(len(points.index))\n",
        "\n",
        "    # print(points)\n",
        "    # print('adding center')\n",
        "    # print(current_point)\n",
        "    centers = centers.append(current_point)\n",
        "print('centers')\n",
        "print(centers)\n"
      ]
    },
    {
      "cell_type": "code",
      "execution_count": 47,
      "metadata": {},
      "outputs": [
        {
          "name": "stdout",
          "output_type": "stream",
          "text": [
            "['Vardas5' 'Vardas10']\n",
            "----\n",
            "['Vardas8']\n",
            "----\n",
            "['Vardas2']\n",
            "----\n",
            "['Vardas3']\n",
            "----\n",
            "['Vardas14']\n",
            "----\n",
            "['Vardas6']\n",
            "----\n",
            "['Vardas9' 'Vardas15']\n",
            "----\n",
            "['Vardas1']\n",
            "----\n",
            "['Vardas13']\n",
            "----\n",
            "['Vardas4']\n",
            "----\n",
            "['Vardas12']\n",
            "----\n",
            "['Vardas7']\n",
            "----\n",
            "['Vardas11']\n",
            "----\n"
          ]
        }
      ],
      "source": [
        "# print(centers)\n",
        "clusters = []\n",
        "# print('clusters')\n",
        "# print('clusters')\n",
        "# print('clusters')\n",
        "centers.index = range(len(centers.index))\n",
        "# print(centers)\n",
        "\n",
        "for index in range(len(centers)):\n",
        "    # print('center index', index)\n",
        "    points = allPoints\n",
        "    center = centers.loc[[index]].values[0]\n",
        "    current_point = pd.DataFrame([center], columns=valueColumns)\n",
        "\n",
        "    # print(center)\n",
        "\n",
        "    current_point = pd.DataFrame(current_point, columns=valueColumns)\n",
        "\n",
        "    pointsWithCenter = points.append(current_point, ignore_index = True)\n",
        "    current_point_index = len(pointsWithCenter) - 1\n",
        "    # print(pointsWithCenter)\n",
        "    \n",
        "    distances = pd.DataFrame(cdist(pointsWithCenter, pointsWithCenter, 'euclidean'))\n",
        "    distancesToPoint = distances[current_point_index]\n",
        "    neighboursIndexes = [index for index, distance in enumerate(distancesToPoint) if distance < radius]\n",
        "\n",
        "    neighbours = df.loc[neighboursIndexes[:-1]]\n",
        "    # print(neighbours)\n",
        "    print(neighbours.pacientas.values)\n",
        "    print('----')\n",
        "    clusters.append(neighbours.pacientas.values)\n",
        "# print(clusters)\n",
        "    # Initialize a set of non-clustered points U := X and the set of clusters C := ∅.\n",
        "    #   Length U != ∅:\n",
        "    #   Choose a random point x0.\n",
        "    #   While the process is not stable\n",
        "    #       Form a cluster c = {x ∈ X|ρ(x, x0) < R}.\n",
        "    #       x0 := 1/|c| Ex∈c x.\n",
        "    #   U := U \\ c, C := C ∪ {c}\n",
        "    #   Return the set of received clusters C"
      ]
    },
    {
      "cell_type": "code",
      "execution_count": 109,
      "metadata": {},
      "outputs": [
        {
          "name": "stdout",
          "output_type": "stream",
          "text": [
            "[ 0  0 -1 -1  1 -1 -1  0  2  1  0  0  0  0  2]\n",
            "{0: ['Vardas1', 'Vardas2', 'Vardas8', 'Vardas11', 'Vardas12', 'Vardas13', 'Vardas14'], -1: ['Vardas3', 'Vardas4', 'Vardas6', 'Vardas7'], 1: ['Vardas5', 'Vardas10'], 2: ['Vardas9', 'Vardas15']}\n"
          ]
        }
      ],
      "source": [
        "#ketvirtas\n",
        "import matplotlib.pyplot as plt\n",
        "from sklearn.cluster import DBSCAN\n",
        "x = allPoints.values.tolist()\n",
        "clustering = DBSCAN(eps=1, min_samples=2, metric='euclidean').fit(x) # min_samples\n",
        "# objektų skaičius kaiminystėje, norint, kad taškas būtų laikomas šakniniu;\n",
        "#eps- Didžiausias atstumas tarp dviejų objektų, kad vienas būtų laikomas šalia kito.\n",
        "print(clustering.labels_)\n",
        "\n",
        "clusters = {}\n",
        "for index, label in enumerate(clustering.labels_):\n",
        "    name = df.loc[[index]].values[0][0]\n",
        "    if not clusters.get(label):\n",
        "        clusters[label] = [name]\n",
        "    else:\n",
        "        temp = clusters[label]\n",
        "        temp.append(name)\n",
        "        clusters[label] = temp\n",
        "print(clusters)\n"
      ]
    },
    {
      "cell_type": "code",
      "execution_count": 111,
      "metadata": {},
      "outputs": [
        {
          "name": "stdout",
          "output_type": "stream",
          "text": [
            "{1: ['Vardas1', 'Vardas2', 'Vardas4', 'Vardas6', 'Vardas8', 'Vardas11', 'Vardas12', 'Vardas13', 'Vardas14'], 0: ['Vardas3', 'Vardas7', 'Vardas9', 'Vardas15'], 2: ['Vardas5', 'Vardas10']}\n"
          ]
        }
      ],
      "source": [
        "#penktas\n",
        "import numpy as np\n",
        "from sklearn import datasets\n",
        "from sklearn.cluster import KMeans\n",
        "x = allPoints.values.tolist()\n",
        "kmeans = KMeans(n_clusters=3).fit(x)\n",
        "kmeans.labels_\n",
        "\n",
        "clusters = {}\n",
        "for index, label in enumerate(kmeans.labels_):\n",
        "    name = df.loc[[index]].values[0][0]\n",
        "    if not clusters.get(label):\n",
        "        clusters[label] = [name]\n",
        "    else:\n",
        "        temp = clusters[label]\n",
        "        temp.append(name)\n",
        "        clusters[label] = temp\n",
        "print(clusters)\n"
      ]
    }
  ],
  "metadata": {
    "colab": {
      "provenance": []
    },
    "kernelspec": {
      "display_name": "Python 3.9.7 ('tf')",
      "language": "python",
      "name": "python3"
    },
    "language_info": {
      "codemirror_mode": {
        "name": "ipython",
        "version": 3
      },
      "file_extension": ".py",
      "mimetype": "text/x-python",
      "name": "python",
      "nbconvert_exporter": "python",
      "pygments_lexer": "ipython3",
      "version": "3.9.7"
    },
    "orig_nbformat": 4,
    "vscode": {
      "interpreter": {
        "hash": "d0eed9422d3b6c012327c82824da2c3cc1115dadb006bfd9a899d8ed44f220fb"
      }
    }
  },
  "nbformat": 4,
  "nbformat_minor": 0
}
