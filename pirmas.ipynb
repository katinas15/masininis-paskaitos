{
 "cells": [
  {
   "cell_type": "code",
   "execution_count": 62,
   "source": [
    "import pandas as pd\r\n",
    "\r\n",
    "data = [\r\n",
    "    (\"Vardas1\", 0, 165, 55),\r\n",
    "    (\"Vardas2\", 1, 183, 95),\r\n",
    "    (\"Vardas3\", 0, 171, 60),\r\n",
    "    (\"Vardas4\", 1, 194, 102),\r\n",
    "    (\"Vardas5\", 1, \"?\", 80),\r\n",
    "    (\"Vardas6\", 1, 185, 90),\r\n",
    "]"
   ],
   "outputs": [],
   "metadata": {}
  },
  {
   "cell_type": "code",
   "execution_count": 63,
   "source": [
    "# pirmas\r\n",
    "df = pd.DataFrame(data, columns=['vardas', 'lytis', 'ugis', 'svoris'])\r\n",
    "filteredTable = df.drop(df[df['ugis'] == \"?\"].index)\r\n",
    "# print(filteredTable)\r\n",
    "# print('---- \\n')\r\n",
    "\r\n",
    "print(f\"all average {filteredTable['ugis'].mean()}\")\r\n",
    "print(f\"all median {filteredTable['ugis'].median()}\")\r\n",
    "print('\\n ---- \\n')\r\n",
    "\r\n",
    "women = filteredTable[filteredTable['lytis'] == 0]\r\n",
    "print(f\"women average {women['ugis'].mean()}\")\r\n",
    "print(f\"women median {women['ugis'].median()}\")\r\n",
    "print('\\n ---- \\n')\r\n",
    "\r\n",
    "men = filteredTable[filteredTable['lytis'] == 1]\r\n",
    "print(f\"men average {men['ugis'].mean()}\")\r\n",
    "print(f\"men median {men['ugis'].median()}\")"
   ],
   "outputs": [
    {
     "output_type": "stream",
     "name": "stdout",
     "text": [
      "all average 179.6\n",
      "all median 183.0\n",
      "\n",
      " ---- \n",
      "\n",
      "women average 168.0\n",
      "women median 168.0\n",
      "\n",
      " ---- \n",
      "\n",
      "men average 187.33333333333334\n",
      "men median 185.0\n"
     ]
    }
   ],
   "metadata": {}
  },
  {
   "cell_type": "code",
   "execution_count": 64,
   "source": [
    "#antra\r\n",
    "from scipy.spatial import distance\r\n",
    "import numpy as np\r\n",
    "\r\n",
    "def norm(column):\r\n",
    "    return (column - column.mean())/column.std()\r\n",
    "\r\n",
    "def denorm(norm_var, column):\r\n",
    "    return norm_var * column.std() + column.mean()\r\n",
    "\r\n",
    "def metrikos_skaiciavimas(kintamieji, metrikos):\r\n",
    "    return (1/np.sum(1/metrikos)*np.sum(kintamieji/metrikos))\r\n",
    "\r\n",
    "norm_lytis = norm(df['lytis'])\r\n",
    "# print(norm_lytis)\r\n",
    "\r\n",
    "norm_ugis = norm(filteredTable['ugis'])\r\n",
    "# print(norm_ugis)\r\n",
    "\r\n",
    "norm_svoris = norm(df['svoris'])\r\n",
    "# print(norm_svoris)\r\n",
    "\r\n",
    "\r\n",
    "\r\n",
    "atstumas_e = np.sqrt((norm_lytis[4] - norm_lytis)**2+(norm_svoris[4]-norm_svoris)**2)\r\n",
    "del atstumas_e[4]\r\n",
    "# print(atstumas_e)\r\n",
    "\r\n",
    "ugis_norm_e = metrikos_skaiciavimas(norm_ugis, atstumas_e)\r\n",
    "ugis_e = denorm(ugis_norm_e, filteredTable['ugis'])\r\n",
    "print(f\"ugis euclidean - {ugis_e}\")\r\n",
    "\r\n",
    "\r\n",
    "\r\n",
    "atstumas_m = np.abs(norm_lytis[4] - norm_lytis)+np.abs(norm_svoris[4]-norm_svoris)\r\n",
    "del atstumas_m[4]\r\n",
    "# print(atstumas_m)\r\n",
    "\r\n",
    "ugis_norm_m = metrikos_skaiciavimas(norm_ugis, atstumas_m)\r\n",
    "ugis_m = denorm(ugis_norm_m, filteredTable['ugis'])\r\n",
    "print(f\"ugis manhattan - {ugis_m}\")\r\n",
    "\r\n",
    "\r\n",
    "atstumas_c = np.amax(\r\n",
    "                np.stack(\r\n",
    "                    (np.abs(norm_lytis[4] - norm_lytis), np.abs(norm_svoris[4]-norm_svoris)\r\n",
    "                ), axis=-1), \r\n",
    "            axis=1).tolist()\r\n",
    "\r\n",
    "del atstumas_c[4]\r\n",
    "atstumas_c = pd.DataFrame(atstumas_c)[0]\r\n",
    "# print(atstumas_c)\r\n",
    "\r\n",
    "ugis_norm_c = metrikos_skaiciavimas(norm_ugis, atstumas_c)\r\n",
    "print(ugis_norm_c)\r\n",
    "ugis_c = denorm(ugis_norm_c, filteredTable['ugis'])\r\n",
    "print(f\"ugis Čebyšavo  - {ugis_c}\")\r\n",
    "\r\n"
   ],
   "outputs": [
    {
     "output_type": "stream",
     "name": "stdout",
     "text": [
      "ugis euclidean - 183.04910652784145\n",
      "ugis manhattan - 183.81314372942035\n",
      "0.08303873239059639\n",
      "ugis Čebyšavo  - 180.56052520951172\n"
     ]
    }
   ],
   "metadata": {}
  },
  {
   "cell_type": "code",
   "execution_count": 65,
   "source": [
    "#trecias\r\n",
    "filteredTable = filteredTable.astype({\"ugis\": np.int64})\r\n",
    "\r\n",
    "avg_lyt = filteredTable['lytis'].mean()\r\n",
    "avg_ugis = filteredTable['ugis'].mean()\r\n",
    "avg_svoris = filteredTable['svoris'].mean()\r\n",
    "print(f\"average lyt {avg_lyt}\")\r\n",
    "print(f\"average ugis {avg_ugis}\")\r\n",
    "print(f\"average svoris {avg_svoris}\")\r\n",
    "\r\n",
    "corr = filteredTable.corr()\r\n",
    "corr_lyt = corr['ugis'][0]\r\n",
    "corr_svoris = corr['ugis'][2]\r\n",
    "# print(corr_lyt)\r\n",
    "# print(corr_svoris)\r\n",
    "# print(df['svoris'][4])\r\n",
    "atkurimas_svoris = corr_svoris * (df['svoris'][4] - avg_svoris)\r\n",
    "# print(atkurimas_svoris)\r\n",
    "atkurimas_lyt = corr_lyt * (df['lytis'][4] - avg_lyt)\r\n",
    "# print(atkurimas_lyt)\r\n",
    "atsakymas = avg_ugis + (1/(abs(corr_lyt) + abs(corr_svoris)) * (atkurimas_svoris + atkurimas_lyt)) \r\n",
    "# atsakymas = avg_ugis + (1/ abs(corr_svoris) * atkurimas_svoris )\r\n",
    "print(atsakymas)\r\n"
   ],
   "outputs": [
    {
     "output_type": "stream",
     "name": "stdout",
     "text": [
      "average lyt 0.6\n",
      "average ugis 179.6\n",
      "average svoris 80.4\n",
      "179.58884652676338\n"
     ]
    }
   ],
   "metadata": {}
  },
  {
   "cell_type": "code",
   "execution_count": 77,
   "source": [
    "rekomendacijosRaw = [\r\n",
    "    (\"A. Klasikinė suknelė\", 1, 1, 1, 0, 0, 0, 1),\r\n",
    "    (\"B. Retro suknelė\", 0, 1, 0, 0, 1, 0, 0),\r\n",
    "    (\"C. Klasikinis kostiumas su kelnėmis\", 0, 0, 0, 1, 0, 1, 1),\r\n",
    "    (\"D. Klasikinis kostiumas su sijonu\", 0, 0, 1, 0, 0, 0, 0),\r\n",
    "    (\"E. Kelnės\", 0, 1, 0, 1, 0, 0, 0),\r\n",
    "    (\"F. Sijonas\", 1, 0, 0, 0, 1, 1, 0)\r\n",
    "]\r\n",
    "\r\n",
    "rekomendacijosFull = pd.DataFrame(rekomendacijosRaw, columns=['prekes', '1', '2', '3', '4', '5', '6', '7'])\r\n",
    "rekomendacijos = rekomendacijosFull.drop(\"prekes\", axis=1)\r\n",
    "print(rekomendacijos)\r\n"
   ],
   "outputs": [
    {
     "output_type": "stream",
     "name": "stdout",
     "text": [
      "   1  2  3  4  5  6  7\n",
      "0  1  1  1  0  0  0  1\n",
      "1  0  1  0  0  1  0  0\n",
      "2  0  0  0  1  0  1  1\n",
      "3  0  0  1  0  0  0  0\n",
      "4  0  1  0  1  0  0  0\n",
      "5  1  0  0  0  1  1  0\n"
     ]
    }
   ],
   "metadata": {}
  },
  {
   "cell_type": "code",
   "execution_count": 80,
   "source": [
    "#ketvirtas\r\n",
    "from scipy.spatial.distance import cdist\r\n",
    "dist = cdist(rekomendacijos, rekomendacijos, 'euclid')\r\n",
    "# print(dist)\r\n",
    "\r\n",
    "for i in range(len(dist)):\r\n",
    "    dist[i][i] = np.inf\r\n",
    "# print(dist)\r\n",
    "print()\r\n",
    "\r\n",
    "shortest_dist = []\r\n",
    "for index, preke in enumerate(rekomendacijos[\"7\"]):\r\n",
    "    if preke == 1:\r\n",
    "        shortest_dist_in_row_index = dist[index].argmin()\r\n",
    "        shortest_dist_in_row = dist[index].min()\r\n",
    "        row_name = rekomendacijosFull[\"prekes\"][shortest_dist_in_row_index]\r\n",
    "\r\n",
    "        # print(shortest_dist_in_row)\r\n",
    "        shortest_dist.append((row_name, shortest_dist_in_row))\r\n",
    "        # print(index)\r\n",
    "\r\n",
    "shortest_dist = pd.DataFrame(shortest_dist, columns=['prekes', 'atstumas'])\r\n",
    "shortest_dist = shortest_dist.loc[shortest_dist.groupby('prekes').atstumas.idxmin()]\r\n",
    "print(shortest_dist)"
   ],
   "outputs": [
    {
     "output_type": "stream",
     "name": "stdout",
     "text": [
      "\n",
      "                              prekes  atstumas\n",
      "0  D. Klasikinis kostiumas su sijonu  1.732051\n",
      "1                          E. Kelnės  1.732051\n"
     ]
    }
   ],
   "metadata": {}
  },
  {
   "cell_type": "code",
   "execution_count": null,
   "source": [
    "# penkta\r\n",
    "filmaiRaw = [\r\n",
    "    (\"A. Klasikinė suknelė\", 1, 1, 1, 0, 0, 0, 1),\r\n",
    "    (\"B. Retro suknelė\", 0, 1, 0, 0, 1, 0, 0),\r\n",
    "    (\"C. Klasikinis kostiumas su kelnėmis\", 0, 0, 0, 1, 0, 1, 1),\r\n",
    "    (\"D. Klasikinis kostiumas su sijonu\", 0, 0, 1, 0, 0, 0, 0),\r\n",
    "    (\"E. Kelnės\", 0, 1, 0, 1, 0, 0, 0),\r\n",
    "    (\"F. Sijonas\", 1, 0, 0, 0, 1, 1, 0)\r\n",
    "]\r\n",
    "\r\n",
    "rekomendacijosFull = pd.DataFrame(rekomendacijosRaw, columns=['prekes', '1', '2', '3', '4', '5', '6', '7'])\r\n",
    "rekomendacijos = rekomendacijosFull.drop(\"prekes\", axis=1)\r\n",
    "print(rekomendacijos)\r\n"
   ],
   "outputs": [],
   "metadata": {}
  },
  {
   "cell_type": "code",
   "execution_count": 145,
   "source": [
    "#sesta\r\n",
    "from scipy import special\r\n",
    "\r\n",
    "def erfc_value(array, value):\r\n",
    "    return abs(value - array.mean())/array.std()\r\n",
    "\r\n",
    "def anomaly_criteria(array):\r\n",
    "    return 1/(2 * len(array))\r\n",
    "\r\n",
    "A = np.asarray([15, 17, 16, 16, 18, 17, 15, 30, 18])\r\n",
    "B = np.asarray([32.88, 40.81, 85.32, 53.15, 70.91, 30.84, 64.86, 54.31])\r\n",
    "erf_array = special.erfc(A)\r\n",
    "# erf_array = special.erfc(B)\r\n",
    "# print(erf_array)\r\n",
    "\r\n",
    "# print(B.mean())\r\n",
    "# print(B.std())\r\n",
    "# print(erfc(B, 85.32))\r\n",
    "# print(anomaly_criteria(B))\r\n",
    "val = special.erfc(erfc(B, 85.32))\r\n",
    "\r\n",
    "anomalies = True\r\n",
    "dataset = A\r\n",
    "while anomalies:\r\n",
    "    anomalies = False\r\n",
    "    for index, i in enumerate(dataset):\r\n",
    "        if special.erfc(erfc_value(dataset, i)) < anomaly_criteria(dataset):\r\n",
    "            dataset = np.delete(dataset, index)\r\n",
    "            print(i)\r\n",
    "            anomalies = True\r\n",
    "            break\r\n",
    "\r\n",
    "print('liko: ')\r\n",
    "print(dataset)\r\n",
    "\r\n"
   ],
   "outputs": [
    {
     "output_type": "stream",
     "name": "stdout",
     "text": [
      "30\n",
      "15\n",
      "15\n",
      "16\n",
      "16\n",
      "liko: \n",
      "[17 18 17 18]\n"
     ]
    }
   ],
   "metadata": {}
  },
  {
   "cell_type": "code",
   "execution_count": 148,
   "source": [
    "C = np.asarray([-2, -1, 0, 1, 3, 5, 7, 8, 9, 10])\r\n",
    "q25 = np.quantile(A, 0.25)\r\n",
    "q75 = np.quantile(A, 0.75)\r\n",
    "print(q25, q75)\r\n",
    "condition1 = q25 - 1.5 * (q75 - q25)\r\n",
    "condition2 = q75 + 1.5 * (q75 - q25)\r\n",
    "print(condition1, condition2)\r\n",
    "\r\n",
    "print('isimtys: ')\r\n",
    "dataset = A\r\n",
    "for index, i in enumerate(dataset):\r\n",
    "    if i < condition1 or i > condition2:\r\n",
    "        dataset = np.delete(dataset, index)\r\n",
    "        print(i)\r\n",
    "\r\n",
    "print('liko: ')\r\n",
    "print(dataset)\r\n"
   ],
   "outputs": [
    {
     "output_type": "stream",
     "name": "stdout",
     "text": [
      "16.0 18.0\n",
      "13.0 21.0\n",
      "isimtys: \n",
      "30\n",
      "liko: \n",
      "[15 17 16 16 18 17 15 18]\n"
     ]
    }
   ],
   "metadata": {}
  },
  {
   "cell_type": "markdown",
   "source": [],
   "metadata": {}
  }
 ],
 "metadata": {
  "orig_nbformat": 4,
  "language_info": {
   "name": "python",
   "version": "3.9.7",
   "mimetype": "text/x-python",
   "codemirror_mode": {
    "name": "ipython",
    "version": 3
   },
   "pygments_lexer": "ipython3",
   "nbconvert_exporter": "python",
   "file_extension": ".py"
  },
  "kernelspec": {
   "name": "python3",
   "display_name": "Python 3.9.7 64-bit ('tf': conda)"
  },
  "interpreter": {
   "hash": "f25a34d828536eaea94bc98fa02bf2fcbf5af5b65bea44899cc5ad2220dc98c9"
  }
 },
 "nbformat": 4,
 "nbformat_minor": 2
}