{
 "cells": [
  {
   "cell_type": "code",
   "execution_count": 1,
   "source": [
    "import pandas as pd\r\n",
    "\r\n",
    "data = [\r\n",
    "    (\"Vardas1\", 0, 165, 55),\r\n",
    "    (\"Vardas2\", 1, 183, 95),\r\n",
    "    (\"Vardas3\", 0, 171, 60),\r\n",
    "    (\"Vardas4\", 1, 194, 102),\r\n",
    "    (\"Vardas5\", 1, \"?\", 80),\r\n",
    "    (\"Vardas6\", 1, 185, 90),\r\n",
    "]"
   ],
   "outputs": [],
   "metadata": {}
  },
  {
   "cell_type": "code",
   "execution_count": 2,
   "source": [
    "# pirmas\r\n",
    "df = pd.DataFrame(data, columns=['vardas', 'lytis', 'ugis', 'svoris'])\r\n",
    "filteredTable = df.drop(df[df['ugis'] == \"?\"].index)\r\n",
    "# print(filteredTable)\r\n",
    "# print('---- \\n')\r\n",
    "\r\n",
    "print(f\"all average {filteredTable['ugis'].mean()}\")\r\n",
    "print(f\"all median {filteredTable['ugis'].median()}\")\r\n",
    "print('\\n ---- \\n')\r\n",
    "\r\n",
    "women = filteredTable[filteredTable['lytis'] == 0]\r\n",
    "print(f\"women average {women['ugis'].mean()}\")\r\n",
    "print(f\"women median {women['ugis'].median()}\")\r\n",
    "print('\\n ---- \\n')\r\n",
    "\r\n",
    "men = filteredTable[filteredTable['lytis'] == 1]\r\n",
    "print(f\"men average {men['ugis'].mean()}\")\r\n",
    "print(f\"men median {men['ugis'].median()}\")"
   ],
   "outputs": [
    {
     "output_type": "stream",
     "name": "stdout",
     "text": [
      "all average 179.6\n",
      "all median 183.0\n",
      "\n",
      " ---- \n",
      "\n",
      "women average 168.0\n",
      "women median 168.0\n",
      "\n",
      " ---- \n",
      "\n",
      "men average 187.33333333333334\n",
      "men median 185.0\n"
     ]
    }
   ],
   "metadata": {}
  },
  {
   "cell_type": "code",
   "execution_count": 3,
   "source": [
    "#antra\r\n",
    "from scipy.spatial import distance\r\n",
    "import numpy as np\r\n",
    "\r\n",
    "def norm(column):\r\n",
    "    return (column - column.mean())/column.std()\r\n",
    "\r\n",
    "def denorm(norm_var, column):\r\n",
    "    return norm_var * column.std() + column.mean()\r\n",
    "\r\n",
    "def metrikos_skaiciavimas(kintamieji, metrikos):\r\n",
    "    return (1/np.sum(1/metrikos)*np.sum(kintamieji/metrikos))\r\n",
    "\r\n",
    "norm_lytis = norm(df['lytis'])\r\n",
    "# print(norm_lytis)\r\n",
    "\r\n",
    "norm_ugis = norm(filteredTable['ugis'])\r\n",
    "# print(norm_ugis)\r\n",
    "\r\n",
    "norm_svoris = norm(df['svoris'])\r\n",
    "# print(norm_svoris)\r\n",
    "\r\n",
    "\r\n",
    "\r\n",
    "atstumas_e = np.sqrt((norm_lytis[4] - norm_lytis)**2+(norm_svoris[4]-norm_svoris)**2)\r\n",
    "del atstumas_e[4]\r\n",
    "# print(atstumas_e)\r\n",
    "\r\n",
    "ugis_norm_e = metrikos_skaiciavimas(norm_ugis, atstumas_e)\r\n",
    "ugis_e = denorm(ugis_norm_e, filteredTable['ugis'])\r\n",
    "print(f\"ugis euclidean - {ugis_e}\")\r\n",
    "\r\n",
    "\r\n",
    "\r\n",
    "atstumas_m = np.abs(norm_lytis[4] - norm_lytis)+np.abs(norm_svoris[4]-norm_svoris)\r\n",
    "del atstumas_m[4]\r\n",
    "# print(atstumas_m)\r\n",
    "\r\n",
    "ugis_norm_m = metrikos_skaiciavimas(norm_ugis, atstumas_m)\r\n",
    "ugis_m = denorm(ugis_norm_m, filteredTable['ugis'])\r\n",
    "print(f\"ugis manhattan - {ugis_m}\")\r\n",
    "\r\n",
    "\r\n",
    "atstumas_c = np.amax(\r\n",
    "                np.stack(\r\n",
    "                    (np.abs(norm_lytis[4] - norm_lytis), np.abs(norm_svoris[4]-norm_svoris)\r\n",
    "                ), axis=-1), \r\n",
    "            axis=1).tolist()\r\n",
    "\r\n",
    "del atstumas_c[4]\r\n",
    "atstumas_c = pd.DataFrame(atstumas_c)[0]\r\n",
    "# print(atstumas_c)\r\n",
    "\r\n",
    "ugis_norm_c = metrikos_skaiciavimas(norm_ugis, atstumas_c)\r\n",
    "ugis_c = denorm(ugis_norm_c, filteredTable['ugis'])\r\n",
    "print(f\"ugis Čebyšavo  - {ugis_c}\")\r\n",
    "\r\n"
   ],
   "outputs": [
    {
     "output_type": "stream",
     "name": "stdout",
     "text": [
      "ugis euclidean - 183.04910652784145\n",
      "ugis manhattan - 183.81314372942035\n",
      "ugis Čebyšavo  - 180.56052520951172\n"
     ]
    }
   ],
   "metadata": {}
  },
  {
   "cell_type": "code",
   "execution_count": 29,
   "source": [
    "#trecias\r\n",
    "filteredTable = filteredTable.astype({\"ugis\": np.int64})\r\n",
    "\r\n",
    "avg_lyt = filteredTable['lytis'].mean()\r\n",
    "avg_ugis = filteredTable['ugis'].mean()\r\n",
    "avg_svoris = filteredTable['svoris'].mean()\r\n",
    "print(f\"average lyt {avg_lyt}\")\r\n",
    "print(f\"average ugis {avg_ugis}\")\r\n",
    "print(f\"average svoris {avg_svoris}\")\r\n",
    "\r\n",
    "corr = filteredTable.corr()\r\n",
    "corr_lyt = corr['ugis'][0]\r\n",
    "corr_svoris = corr['ugis'][2]\r\n",
    "# print(corr_lyt)\r\n",
    "# print(corr_svoris)\r\n",
    "\r\n",
    "corr_atkurimas = avg_ugis + 1/(abs(corr_lyt) + abs(corr_svoris))\r\n",
    "\r\n",
    "print(corr_atkurimas)\r\n"
   ],
   "outputs": [
    {
     "output_type": "stream",
     "name": "stdout",
     "text": [
      "average lyt 0.6\n",
      "average ugis 179.6\n",
      "average svoris 80.4\n",
      "180.13094425707627\n"
     ]
    }
   ],
   "metadata": {}
  }
 ],
 "metadata": {
  "orig_nbformat": 4,
  "language_info": {
   "name": "python",
   "version": "3.9.7",
   "mimetype": "text/x-python",
   "codemirror_mode": {
    "name": "ipython",
    "version": 3
   },
   "pygments_lexer": "ipython3",
   "nbconvert_exporter": "python",
   "file_extension": ".py"
  },
  "kernelspec": {
   "name": "python3",
   "display_name": "Python 3.9.7 64-bit ('tf': conda)"
  },
  "interpreter": {
   "hash": "f25a34d828536eaea94bc98fa02bf2fcbf5af5b65bea44899cc5ad2220dc98c9"
  }
 },
 "nbformat": 4,
 "nbformat_minor": 2
}