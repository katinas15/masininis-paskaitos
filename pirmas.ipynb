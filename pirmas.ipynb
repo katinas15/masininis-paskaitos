{
 "cells": [
  {
   "cell_type": "code",
   "execution_count": 46,
   "source": [
    "# pirmas\r\n",
    "import pandas as pd\r\n",
    "\r\n",
    "data = [\r\n",
    "    (\"Vardas1\", 0, 165, 55),\r\n",
    "    (\"Vardas2\", 1, 183, 95),\r\n",
    "    (\"Vardas3\", 0, 171, 60),\r\n",
    "    (\"Vardas4\", 1, 194, 102),\r\n",
    "    (\"Vardas5\", 1, \"?\", 80),\r\n",
    "    (\"Vardas6\", 1, 185, 90),\r\n",
    "]\r\n",
    "# print(data)\r\n",
    "\r\n",
    "df = pd.DataFrame(data, columns=['vardas', 'lytis', 'ugis', 'svoris'])\r\n",
    "filteredTable = df.drop(df[df['ugis'] == \"?\"].index)\r\n",
    "print(filteredTable)\r\n",
    "print('---- \\n')\r\n",
    "\r\n",
    "print(f\"all average {filteredTable['ugis'].mean()}\")\r\n",
    "print(f\"all median {filteredTable['ugis'].median()}\")\r\n",
    "print('---- \\n')\r\n",
    "\r\n",
    "women = filteredTable[filteredTable['lytis'] == 0]\r\n",
    "print(f\"women average {women['ugis'].mean()}\")\r\n",
    "print(f\"women median {women['ugis'].median()}\")\r\n",
    "print('---- \\n')\r\n",
    "\r\n",
    "men = filteredTable[filteredTable['lytis'] == 1]\r\n",
    "print(f\"men average {men['ugis'].mean()}\")\r\n",
    "print(f\"men median {men['ugis'].median()}\")\r\n",
    "print('---- \\n')"
   ],
   "outputs": [
    {
     "output_type": "stream",
     "name": "stdout",
     "text": [
      "    vardas  lytis ugis  svoris\n",
      "0  Vardas1      0  165      55\n",
      "1  Vardas2      1  183      95\n",
      "2  Vardas3      0  171      60\n",
      "3  Vardas4      1  194     102\n",
      "5  Vardas6      1  185      90\n",
      "---- \n",
      "\n",
      "all average 179.6\n",
      "all median 183.0\n",
      "---- \n",
      "\n",
      "women average 168.0\n",
      "women median 168.0\n",
      "---- \n",
      "\n",
      "men average 187.33333333333334\n",
      "men median 185.0\n",
      "---- \n",
      "\n"
     ]
    }
   ],
   "metadata": {}
  },
  {
   "cell_type": "code",
   "execution_count": null,
   "source": [],
   "outputs": [],
   "metadata": {}
  }
 ],
 "metadata": {
  "orig_nbformat": 4,
  "language_info": {
   "name": "python",
   "version": "3.9.7",
   "mimetype": "text/x-python",
   "codemirror_mode": {
    "name": "ipython",
    "version": 3
   },
   "pygments_lexer": "ipython3",
   "nbconvert_exporter": "python",
   "file_extension": ".py"
  },
  "kernelspec": {
   "name": "python3",
   "display_name": "Python 3.9.7 64-bit"
  },
  "interpreter": {
   "hash": "f25a34d828536eaea94bc98fa02bf2fcbf5af5b65bea44899cc5ad2220dc98c9"
  }
 },
 "nbformat": 4,
 "nbformat_minor": 2
}