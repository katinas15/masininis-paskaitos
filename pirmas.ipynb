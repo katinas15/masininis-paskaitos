{
 "cells": [
  {
   "cell_type": "code",
   "execution_count": 2,
   "source": [
    "import pandas as pd\r\n",
    "\r\n",
    "data = [\r\n",
    "    (\"Vardas1\", 0, 165, 55),\r\n",
    "    (\"Vardas2\", 1, 183, 95),\r\n",
    "    (\"Vardas3\", 0, 171, 60),\r\n",
    "    (\"Vardas4\", 1, 194, 102),\r\n",
    "    (\"Vardas5\", 1, \"?\", 80),\r\n",
    "    (\"Vardas6\", 1, 185, 90),\r\n",
    "]"
   ],
   "outputs": [],
   "metadata": {}
  },
  {
   "cell_type": "code",
   "execution_count": 4,
   "source": [
    "# pirmas\r\n",
    "df = pd.DataFrame(data, columns=['vardas', 'lytis', 'ugis', 'svoris'])\r\n",
    "filteredTable = df.drop(df[df['ugis'] == \"?\"].index)\r\n",
    "\r\n",
    "men = filteredTable[filteredTable['lytis'] == 1]\r\n",
    "print(f\"Vidurkis {men['ugis'].mean()}\")\r\n",
    "print(f\"Mediana  {men['ugis'].median()}\")"
   ],
   "outputs": [
    {
     "output_type": "stream",
     "name": "stdout",
     "text": [
      "Vidurkis 187.33333333333334\n",
      "Mediana  185.0\n"
     ]
    }
   ],
   "metadata": {}
  },
  {
   "cell_type": "code",
   "execution_count": 7,
   "source": [
    "#antra\r\n",
    "from scipy.spatial import distance\r\n",
    "import numpy as np\r\n",
    "\r\n",
    "def norm(column):\r\n",
    "    return (column - column.mean())/column.std()\r\n",
    "\r\n",
    "def denorm(norm_var, column):\r\n",
    "    return norm_var * column.std() + column.mean()\r\n",
    "\r\n",
    "def metrikos_skaiciavimas(kintamieji, metrikos):\r\n",
    "    return (1/np.sum(1/metrikos)*np.sum(kintamieji/metrikos))\r\n",
    "\r\n",
    "norm_lytis = norm(df['lytis'])\r\n",
    "norm_ugis = norm(filteredTable['ugis'])\r\n",
    "norm_svoris = norm(df['svoris'])\r\n",
    "\r\n",
    "\r\n",
    "atstumas_e = np.sqrt((norm_lytis[4] - norm_lytis)**2+(norm_svoris[4]-norm_svoris)**2)\r\n",
    "del atstumas_e[4]\r\n",
    "\r\n",
    "ugis_norm_e = metrikos_skaiciavimas(norm_ugis, atstumas_e)\r\n",
    "ugis_e = denorm(ugis_norm_e, filteredTable['ugis'])\r\n",
    "print(f\"ugis euclidean - {ugis_e}\")\r\n",
    "\r\n",
    "\r\n",
    "\r\n",
    "atstumas_m = np.abs(norm_lytis[4] - norm_lytis)+np.abs(norm_svoris[4]-norm_svoris)\r\n",
    "del atstumas_m[4]\r\n",
    "\r\n",
    "ugis_norm_m = metrikos_skaiciavimas(norm_ugis, atstumas_m)\r\n",
    "ugis_m = denorm(ugis_norm_m, filteredTable['ugis'])\r\n",
    "print(f\"ugis manhattan - {ugis_m}\")\r\n",
    "\r\n",
    "\r\n",
    "atstumas_c = np.amax(\r\n",
    "                np.stack(\r\n",
    "                    (np.abs(norm_lytis[4] - norm_lytis), np.abs(norm_svoris[4]-norm_svoris)\r\n",
    "                ), axis=-1), \r\n",
    "            axis=1).tolist()\r\n",
    "\r\n",
    "del atstumas_c[4]\r\n",
    "atstumas_c = pd.DataFrame(atstumas_c)[0]\r\n",
    "\r\n",
    "ugis_norm_c = metrikos_skaiciavimas(norm_ugis, atstumas_c)\r\n",
    "ugis_c = denorm(ugis_norm_c, filteredTable['ugis'])\r\n",
    "print(f\"ugis Čebyšavo  - {ugis_c}\")"
   ],
   "outputs": [
    {
     "output_type": "stream",
     "name": "stdout",
     "text": [
      "ugis euclidean - 183.04910652784145\n",
      "ugis manhattan - 183.81314372942035\n",
      "ugis Čebyšavo  - 180.56052520951172\n"
     ]
    }
   ],
   "metadata": {}
  },
  {
   "cell_type": "code",
   "execution_count": 13,
   "source": [
    "#trecias\r\n",
    "filteredTable = filteredTable.astype({\"ugis\": np.int64})\r\n",
    "\r\n",
    "avg_lyt = filteredTable['lytis'].mean()\r\n",
    "avg_ugis = filteredTable['ugis'].mean()\r\n",
    "avg_svoris = filteredTable['svoris'].mean()\r\n",
    "# print(f\"average lyt {avg_lyt}\")\r\n",
    "# print(f\"average ugis {avg_ugis}\")\r\n",
    "# print(f\"average svoris {avg_svoris}\")\r\n",
    "\r\n",
    "corr = filteredTable.corr()\r\n",
    "# print(corr)\r\n",
    "corr_lyt = corr['ugis'][0]\r\n",
    "corr_svoris = corr['ugis'][2]\r\n",
    "atkurimas_svoris = corr_svoris * (df['svoris'][4] - avg_svoris)\r\n",
    "atkurimas_lyt = corr_lyt * (df['lytis'][4] - avg_lyt)\r\n",
    "atsakymas = avg_ugis + (1/(abs(corr_lyt) + abs(corr_svoris)) * (atkurimas_svoris + atkurimas_lyt)) \r\n",
    "# print(atsakymas)\r\n",
    "print(f\"ugis Koreliacija - {atsakymas}\")\r\n"
   ],
   "outputs": [
    {
     "output_type": "stream",
     "name": "stdout",
     "text": [
      "ugis Koreliacija - 179.58884652676338\n"
     ]
    }
   ],
   "metadata": {}
  },
  {
   "cell_type": "code",
   "execution_count": 14,
   "source": [
    "rekomendacijosRaw = [\r\n",
    "    (\"A. Klasikinė suknelė\",                1, 1, 1, 0, 0, 0, 1),\r\n",
    "    (\"B. Retro suknelė\",                    0, 1, 0, 0, 1, 0, 0),\r\n",
    "    (\"C. Klasikinis kostiumas su kelnėmis\", 0, 0, 0, 1, 0, 1, 1),\r\n",
    "    (\"D. Klasikinis kostiumas su sijonu\",   0, 0, 1, 0, 0, 0, 0),\r\n",
    "    (\"E. Kelnės\",                           0, 1, 0, 1, 0, 0, 0),\r\n",
    "    (\"F. Sijonas\",                          1, 0, 0, 0, 1, 1, 0)\r\n",
    "]\r\n",
    "\r\n",
    "rekomendacijosFull = pd.DataFrame(rekomendacijosRaw, \\\r\n",
    "    columns=['prekes', '1', '2', '3', '4', '5', '6', '7'])\r\n",
    "rekomendacijos = rekomendacijosFull.drop(\"prekes\", axis=1)\r\n",
    "print(rekomendacijos)\r\n"
   ],
   "outputs": [
    {
     "output_type": "stream",
     "name": "stdout",
     "text": [
      "   1  2  3  4  5  6  7\n",
      "0  1  1  1  0  0  0  1\n",
      "1  0  1  0  0  1  0  0\n",
      "2  0  0  0  1  0  1  1\n",
      "3  0  0  1  0  0  0  0\n",
      "4  0  1  0  1  0  0  0\n",
      "5  1  0  0  0  1  1  0\n"
     ]
    }
   ],
   "metadata": {}
  },
  {
   "cell_type": "code",
   "execution_count": 48,
   "source": [
    "#ketvirtas\r\n",
    "from scipy.spatial.distance import cdist\r\n",
    "dist = cdist(rekomendacijos, rekomendacijos, 'euclid')\r\n",
    "print(dist)\r\n",
    "for i in range(len(dist)):\r\n",
    "    dist[i][i] = np.inf\r\n",
    "\r\n",
    "shortest_dist = []\r\n",
    "for index, preke in enumerate(rekomendacijos[\"7\"]):\r\n",
    "    if preke == 1:\r\n",
    "        shortest_dist_in_row_index = dist[index].argmin()\r\n",
    "        shortest_dist_in_row = dist[index].min()\r\n",
    "        row_name = rekomendacijosFull[\"prekes\"][shortest_dist_in_row_index]\r\n",
    "        shortest_dist.append((row_name, shortest_dist_in_row))\r\n",
    "\r\n",
    "shortest_dist = pd.DataFrame(shortest_dist, columns=['prekes', 'atstumas'])\r\n",
    "shortest_dist = shortest_dist.loc[shortest_dist.groupby('prekes').atstumas.idxmin()]\r\n",
    "print(shortest_dist)\r\n",
    "\r\n",
    "                              prekes  atstumas\r\n",
    "0  D. Klasikinis kostiumas su sijonu  1.732051\r\n",
    "1                          E. Kelnės  1.732051"
   ],
   "outputs": [
    {
     "output_type": "stream",
     "name": "stdout",
     "text": [
      "[[0.         2.         2.23606798 1.73205081 2.         2.23606798]\n",
      " [2.         0.         2.23606798 1.73205081 1.41421356 1.73205081]\n",
      " [2.23606798 2.23606798 0.         2.         1.73205081 2.        ]\n",
      " [1.73205081 1.73205081 2.         0.         1.73205081 2.        ]\n",
      " [2.         1.41421356 1.73205081 1.73205081 0.         2.23606798]\n",
      " [2.23606798 1.73205081 2.         2.         2.23606798 0.        ]]\n",
      "                              prekes  atstumas\n",
      "0  D. Klasikinis kostiumas su sijonu  1.732051\n",
      "1                          E. Kelnės  1.732051\n"
     ]
    }
   ],
   "metadata": {}
  },
  {
   "cell_type": "code",
   "execution_count": 24,
   "source": [
    "# penkta\r\n",
    "filmaiRaw = [\r\n",
    "    (\"Vardas1\", 2, 5, 1, 5, 5, 3, 2),\r\n",
    "    (\"Vardas2\", 2, 4, 1, 4, 4, 4, 3),\r\n",
    "    (\"Vardas3\", 1, 3, 2, 3, 5, 3, 4),\r\n",
    "    (\"Vardas4\", 3, 5, 1, 5, 5, 4, 5),\r\n",
    "    (\"Vardas5\", 3, 5, 2, 3, 5, 3, 3),\r\n",
    "    (\"Vardas6\", 2, 5, 1, 5, None, None, 2)\r\n",
    "]\r\n",
    "\r\n",
    "filmaiFull = pd.DataFrame(filmaiRaw, \\\r\n",
    "     columns=['naudotojas', 'siaubo', 'veiksmo',\\\r\n",
    "          'drama', 'nuotykiu', 'scifi', 'mitologija', 'istorinis'])\r\n",
    "filmai = filmaiFull.drop(\"naudotojas\", axis=1)\r\n",
    "\r\n",
    "corr = filmai.corr()\r\n",
    "vid = filmai.mean()\r\n",
    "user_values = filmai.iloc[5]\r\n",
    "\r\n",
    "scifi_corr = corr.scifi\r\n",
    "atsakymas_scifi = vid.scifi + \\\r\n",
    "    (1/(sum(abs(scifi_corr.values)))) * \\\r\n",
    "    (\r\n",
    "        scifi_corr[0] * (user_values[0] - vid[0]) + \\\r\n",
    "        scifi_corr[1] * (user_values[1] - vid[1]) + \\\r\n",
    "        scifi_corr[2] * (user_values[2] - vid[2]) + \\\r\n",
    "        scifi_corr[3] * (user_values[3] - vid[3]) + \\\r\n",
    "        scifi_corr[6] * (user_values[6] - vid[6])\r\n",
    "    )\r\n",
    "\r\n",
    "print(f\"scifi -      {atsakymas_scifi}\")\r\n",
    "\r\n",
    "mito_corr = corr.mitologija\r\n",
    "atsakymas_mito = vid.mitologija + \\\r\n",
    "    (1/(sum(abs(mito_corr.values)))) * \\\r\n",
    "    (\r\n",
    "        mito_corr[0] * (user_values[0] - vid[0]) + \\\r\n",
    "        mito_corr[1] * (user_values[1] - vid[1]) + \\\r\n",
    "        mito_corr[2] * (user_values[2] - vid[2]) + \\\r\n",
    "        mito_corr[3] * (user_values[3] - vid[3]) + \\\r\n",
    "        mito_corr[6] * (user_values[6] - vid[6])\r\n",
    "    )\r\n",
    "\r\n",
    "print(f\"mitologija - {atsakymas_mito}\")"
   ],
   "outputs": [
    {
     "output_type": "stream",
     "name": "stdout",
     "text": [
      "scifi -      4.699184752502252\n",
      "mitologija - 3.4105927320950866\n"
     ]
    }
   ],
   "metadata": {}
  },
  {
   "cell_type": "code",
   "execution_count": 26,
   "source": [
    "#sesta\r\n",
    "from scipy import special\r\n",
    "\r\n",
    "def erfc_value(array, value):\r\n",
    "    return abs(value - array.mean())/array.std()\r\n",
    "\r\n",
    "def anomaly_criteria(array):\r\n",
    "    return 1/(2 * len(array))\r\n",
    "\r\n",
    "A = np.asarray([15, 17, 16, 16, 18, 17, 15, 30, 18])\r\n",
    "A = np.sort(A)\r\n",
    "\r\n",
    "anomalies = True\r\n",
    "dataset = A\r\n",
    "while anomalies:\r\n",
    "    anomalies = False\r\n",
    "    for index, i in enumerate(dataset):\r\n",
    "        if special.erfc(erfc_value(dataset, i)) < anomaly_criteria(dataset):\r\n",
    "            dataset = np.delete(dataset, index)\r\n",
    "            print(i)\r\n",
    "            anomalies = True\r\n",
    "            break\r\n",
    "\r\n",
    "print('liko: ')\r\n",
    "print(dataset)"
   ],
   "outputs": [
    {
     "output_type": "stream",
     "name": "stdout",
     "text": [
      "30\n",
      "15\n",
      "15\n",
      "16\n",
      "16\n",
      "liko: \n",
      "[17 17 18 18]\n"
     ]
    }
   ],
   "metadata": {}
  },
  {
   "cell_type": "code",
   "execution_count": 11,
   "source": [
    "A = np.asarray([15, 17, 16, 16, 18, 17, 15, 30, 18])\r\n",
    "A = np.sort(A)\r\n",
    "q25 = np.quantile(A, 0.25)\r\n",
    "q75 = np.quantile(A, 0.75)\r\n",
    "# print(q25, q75)\r\n",
    "condition1 = q25 - 1.5 * (q75 - q25)\r\n",
    "condition2 = q75 + 1.5 * (q75 - q25)\r\n",
    "# print(condition1, condition2)\r\n",
    "\r\n",
    "print('isimtys: ')\r\n",
    "anomalies = True\r\n",
    "dataset = A\r\n",
    "while anomalies:\r\n",
    "    anomalies = False\r\n",
    "    for index, i in enumerate(dataset):\r\n",
    "        q25 = np.quantile(dataset, 0.25)\r\n",
    "        q75 = np.quantile(dataset, 0.75)\r\n",
    "        # print(q25, q75)\r\n",
    "\r\n",
    "        condition1 = q25 - 1.5 * (q75 - q25)\r\n",
    "        condition2 = q75 + 1.5 * (q75 - q25)\r\n",
    "        # print(condition1, condition2)\r\n",
    "        if i < condition1 or i > condition2:\r\n",
    "            dataset = np.delete(dataset, index)\r\n",
    "            print(i)\r\n",
    "            anomalies = True\r\n",
    "\r\n",
    "\r\n",
    "print('liko: ')\r\n",
    "print(dataset)\r\n"
   ],
   "outputs": [
    {
     "output_type": "stream",
     "name": "stdout",
     "text": [
      "isimtys: \n",
      "30\n",
      "liko: \n",
      "[15 15 16 16 17 17 18 18]\n"
     ]
    }
   ],
   "metadata": {}
  },
  {
   "cell_type": "markdown",
   "source": [],
   "metadata": {}
  }
 ],
 "metadata": {
  "orig_nbformat": 4,
  "language_info": {
   "name": "python",
   "version": "3.9.7",
   "mimetype": "text/x-python",
   "codemirror_mode": {
    "name": "ipython",
    "version": 3
   },
   "pygments_lexer": "ipython3",
   "nbconvert_exporter": "python",
   "file_extension": ".py"
  },
  "kernelspec": {
   "name": "python3",
   "display_name": "Python 3.9.7 64-bit ('tf': conda)"
  },
  "interpreter": {
   "hash": "f25a34d828536eaea94bc98fa02bf2fcbf5af5b65bea44899cc5ad2220dc98c9"
  }
 },
 "nbformat": 4,
 "nbformat_minor": 2
}